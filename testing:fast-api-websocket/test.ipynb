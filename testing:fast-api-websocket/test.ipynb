{
 "cells": [
  {
   "cell_type": "code",
   "execution_count": 22,
   "metadata": {},
   "outputs": [],
   "source": [
    "import asyncio\n",
    "import websockets\n",
    "import time\n",
    "import logging"
   ]
  },
  {
   "cell_type": "code",
   "execution_count": 17,
   "metadata": {},
   "outputs": [],
   "source": [
    "async def send_multiple_requests():\n",
    "    async with websockets.connect(\"ws://127.0.0.1:8000/ws\") as websocket:\n",
    "        for i in range(233):  # Send 5 requests\n",
    "            message = f\"Message {i}\"\n",
    "            await websocket.send(message)\n",
    "            response = await websocket.recv()\n",
    "            t = round(time.time() * 1000)\n",
    "            print(f\"time: {t}\")\n",
    "            print(f\"request: {i}\")"
   ]
  },
  {
   "cell_type": "code",
   "execution_count": 27,
   "metadata": {},
   "outputs": [],
   "source": [
    "async def send_multiple_requests():\n",
    "    async with websockets.connect(\"ws://127.0.0.1:8000/ws\") as websocket:\n",
    "        for i in range(233):  # Send 5 requests\n",
    "            send_request(websocket, i)\n",
    "\n",
    "async def send_request(websocket, i):\n",
    "    message = f\"Message {i}\"\n",
    "    await websocket.send(message)\n",
    "    response = await websocket.recv()\n",
    "    times = round(time.time() * 1000)\n",
    "    print(f\"time: {times}\")\n",
    "    print(f\"response: {response}\") \n"
   ]
  },
  {
   "cell_type": "code",
   "execution_count": 28,
   "metadata": {},
   "outputs": [
    {
     "name": "stderr",
     "output_type": "stream",
     "text": [
      "/var/folders/p1/zk58mj892j5b0d1sw67flp980000gn/T/ipykernel_43098/468066713.py:1: RuntimeWarning: coroutine 'send_request' was never awaited\n",
      "  await send_multiple_requests()\n",
      "RuntimeWarning: Enable tracemalloc to get the object allocation traceback\n"
     ]
    }
   ],
   "source": [
    "await send_multiple_requests()\n"
   ]
  }
 ],
 "metadata": {
  "kernelspec": {
   "display_name": "Python 3",
   "language": "python",
   "name": "python3"
  },
  "language_info": {
   "codemirror_mode": {
    "name": "ipython",
    "version": 3
   },
   "file_extension": ".py",
   "mimetype": "text/x-python",
   "name": "python",
   "nbconvert_exporter": "python",
   "pygments_lexer": "ipython3",
   "version": "3.12.2"
  }
 },
 "nbformat": 4,
 "nbformat_minor": 2
}

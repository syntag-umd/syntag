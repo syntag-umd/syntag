{
 "cells": [
  {
   "cell_type": "code",
   "execution_count": 1,
   "metadata": {},
   "outputs": [],
   "source": [
    "import os\n",
    "import sys\n",
    "sys.path.append(\"../\")"
   ]
  },
  {
   "cell_type": "code",
   "execution_count": 2,
   "metadata": {},
   "outputs": [],
   "source": [
    "from google.oauth2 import service_account\n",
    "from google.auth.transport.requests import Request\n",
    "from app.core.config import settings\n",
    "creds = service_account.Credentials.from_service_account_info(\n",
    "    {\"client_email\": settings.GC_SERVICE_EMAIL, \"private_key\": settings.GC_SERVICE_PRIVATE_KEY,         \"token_uri\": \"https://oauth2.googleapis.com/token\",},\n",
    "    scopes=[\n",
    "        \"https://www.googleapis.com/auth/cloud-platform\",\n",
    "        \"https://www.googleapis.com/auth/cloud-tasks\",\n",
    "    ],\n",
    ")\n",
    "creds.refresh(Request())"
   ]
  },
  {
   "cell_type": "code",
   "execution_count": 3,
   "metadata": {},
   "outputs": [
    {
     "data": {
      "text/plain": [
       "'ya29.c.c0ASRK0GZWnJNZbkjBRKykojqOYU4ewsFousAr6H_6XNmBX6sxUu6_WUCYBI91kZjLUd37yG1ZKHH5MJvMhKYQcc7oFHTyekieBcgbihNF7xLs9fghozTqTJqmpIVchO0JI6qbIpaLr_VQBD6o6KoRcYxOGrMUUD3Vav2TfXbWrl8nrll5NchlNP0ZJI-VBD2pYF2n7AizZCJMEFGG6PmThLI3BKqc6kk3TSKHnUwGimAJlVM9fBwD77nl2mwD-3HSdCCDfKldQElvmvkLzOOf7N6iDyW-3KN8eWO9zALuRK-VgVGL-YbruT8UMC_8c-_3vs4UrCyYPN3pG5ll9HdYSV1gtz2Sx64g5lOXHCl2RG7xPmLtdt1O-1RXiM2ZT389Ai693aZFuei4IuJ3st0b6Y6Bx5m7e8e3-hV9XpqZgdOpyxQhn_eU3UF9MWbBpxwlFJ7ysXpS1rzn_0-x6gB263VqemgkWekMY_V2dR66VaoacJXfSv-R6zUM2QFV9m1Uco6mZtns82tz2fYZuFvdqhq_7jg495Rekbu1jftfSOdld9uu088kxw2zxXO246vl-nmflQ_ViSbujoWrqh6M4YQwlOiOtq09pdBXMY6mu1g3bJryrWtYkWcx7zhBhbupa__O9Sv2t8B6eeOz0tq0sqhk1wbiQ58Vx4RB_mFBxf3nMvx2bgIvxUfn7h6mYzXm8Ssad7qbJ11kdVQ5tt0-jqinyR9WZsup32SxUvWpt3-7ar7ZBMlnMwukYgxZcwxQ30xml_FWpYbdqamrlvUi3Jjkn2O_kbi27Zks95rpXMMS7F7wIrRlYh9gQ2dS_OkuXhmIhbiMXeXV8WXxqMIOYr6b0jg-_00qeWWgm6u8gmtIkuhc4YVl5rvlxFFryR52BtIb89Be6I9mSsgYd1r8v09p4Vd5_idug9o2ckJt817bzxt5lncgpoYIeFbsdV3i69kS8gs4Jfbjaefz3xIqXRfOuiO1M0crOVF0e_vRg4omJ6nwkB_pWtx'"
      ]
     },
     "execution_count": 3,
     "metadata": {},
     "output_type": "execute_result"
    }
   ],
   "source": [
    "creds.token"
   ]
  },
  {
   "cell_type": "code",
   "execution_count": 5,
   "metadata": {},
   "outputs": [],
   "source": [
    "from app.routes.billing import schedule_billing\n",
    "from app.models.schemas import BillingVapiCallBody\n",
    "\n",
    "\n",
    "schedule_billing(\"http://localhost:8000\", body=BillingVapiCallBody(userUuid=\"5074fb1d-0138-4260-bccd-fa9825656d36\", vapiCallId=\"5074fb1d-0138-4260-bccd-fa9825656d36\"))"
   ]
  },
  {
   "cell_type": "code",
   "execution_count": null,
   "metadata": {},
   "outputs": [],
   "source": []
  }
 ],
 "metadata": {
  "kernelspec": {
   "display_name": ".venv",
   "language": "python",
   "name": "python3"
  },
  "language_info": {
   "codemirror_mode": {
    "name": "ipython",
    "version": 3
   },
   "file_extension": ".py",
   "mimetype": "text/x-python",
   "name": "python",
   "nbconvert_exporter": "python",
   "pygments_lexer": "ipython3",
   "version": "3.9.6"
  }
 },
 "nbformat": 4,
 "nbformat_minor": 2
}

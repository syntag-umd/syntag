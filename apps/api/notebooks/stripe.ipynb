{
 "cells": [
  {
   "cell_type": "markdown",
   "metadata": {},
   "source": [
    "## Set up"
   ]
  },
  {
   "cell_type": "code",
   "execution_count": 1,
   "metadata": {},
   "outputs": [],
   "source": [
    "import os\n",
    "import sys\n",
    "sys.path.append(\"../\")\n",
    "from app.core.config import settings\n"
   ]
  },
  {
   "cell_type": "markdown",
   "metadata": {},
   "source": [
    "### Granting everyone free credit"
   ]
  },
  {
   "cell_type": "code",
   "execution_count": 35,
   "metadata": {},
   "outputs": [],
   "source": [
    "import stripe\n",
    "stripe.api_key = settings.STRIPE_API_KEY"
   ]
  },
  {
   "cell_type": "code",
   "execution_count": 40,
   "metadata": {},
   "outputs": [],
   "source": [
    "coupon = stripe.Coupon.create(\n",
    "    name=\"Free Credit Coupon\",\n",
    "    amount_off=500,\n",
    "    currency=\"usd\",\n",
    "    max_redemptions=100,\n",
    ")\n"
   ]
  },
  {
   "cell_type": "code",
   "execution_count": 51,
   "metadata": {},
   "outputs": [
    {
     "data": {
      "text/plain": [
       "<Coupon coupon id=tv8K3lfM at 0x121ad62c0> JSON: {\n",
       "  \"amount_off\": 500,\n",
       "  \"created\": 1726384846,\n",
       "  \"currency\": \"usd\",\n",
       "  \"duration\": \"once\",\n",
       "  \"duration_in_months\": null,\n",
       "  \"id\": \"tv8K3lfM\",\n",
       "  \"livemode\": true,\n",
       "  \"max_redemptions\": 100,\n",
       "  \"metadata\": {},\n",
       "  \"name\": \"Free Credit Coupon\",\n",
       "  \"object\": \"coupon\",\n",
       "  \"percent_off\": null,\n",
       "  \"redeem_by\": null,\n",
       "  \"times_redeemed\": 52,\n",
       "  \"valid\": true\n",
       "}"
      ]
     },
     "execution_count": 51,
     "metadata": {},
     "output_type": "execute_result"
    }
   ],
   "source": [
    "coupon = stripe.Coupon.retrieve(coupon.id)\n",
    "coupon"
   ]
  },
  {
   "cell_type": "code",
   "execution_count": 42,
   "metadata": {},
   "outputs": [],
   "source": [
    "succedded_customers = []"
   ]
  },
  {
   "cell_type": "code",
   "execution_count": 44,
   "metadata": {},
   "outputs": [],
   "source": [
    "customers = stripe.Customer.list(limit=100)\n",
    "\n",
    "for customer in customers:\n",
    "    invoice = stripe.Invoice.create(\n",
    "        customer=customer.id,\n",
    "        auto_advance=False,\n",
    "        collection_method=\"charge_automatically\",\n",
    "        discounts=[{\"coupon\": coupon.id}],\n",
    "        description=\"Free credit for your account balance\"\n",
    "    )\n",
    "    stripe.InvoiceItem.create(\n",
    "        customer=customer.id,\n",
    "        price=\"price_1PyzzgDTmNvCxNQyfT5zr0WC\",\n",
    "        quantity=500,\n",
    "        invoice=invoice.id,\n",
    "    )\n",
    "\n",
    "    stripe.Invoice.finalize_invoice(invoice.id)\n",
    "    succedded_customers.append(customer.id)"
   ]
  },
  {
   "cell_type": "code",
   "execution_count": 47,
   "metadata": {},
   "outputs": [
    {
     "data": {
      "text/plain": [
       "51"
      ]
     },
     "execution_count": 47,
     "metadata": {},
     "output_type": "execute_result"
    }
   ],
   "source": [
    "len(customers)"
   ]
  },
  {
   "cell_type": "code",
   "execution_count": 48,
   "metadata": {},
   "outputs": [
    {
     "data": {
      "text/plain": [
       "51"
      ]
     },
     "execution_count": 48,
     "metadata": {},
     "output_type": "execute_result"
    }
   ],
   "source": [
    "len(succedded_customers)"
   ]
  },
  {
   "cell_type": "code",
   "execution_count": null,
   "metadata": {},
   "outputs": [],
   "source": []
  },
  {
   "cell_type": "code",
   "execution_count": 38,
   "metadata": {},
   "outputs": [
    {
     "data": {
      "text/plain": [
       "<Coupon coupon id=2NGGxLyg at 0x107e77b30> JSON: {\n",
       "  \"deleted\": true,\n",
       "  \"id\": \"2NGGxLyg\",\n",
       "  \"object\": \"coupon\"\n",
       "}"
      ]
     },
     "execution_count": 38,
     "metadata": {},
     "output_type": "execute_result"
    }
   ],
   "source": [
    "coupon.delete()"
   ]
  },
  {
   "cell_type": "markdown",
   "metadata": {},
   "source": [
    "### Remove agent usage from the subscription item"
   ]
  },
  {
   "cell_type": "code",
   "execution_count": 4,
   "metadata": {},
   "outputs": [],
   "source": [
    "customers = stripe.Customer.list(limit=100)"
   ]
  },
  {
   "cell_type": "code",
   "execution_count": 5,
   "metadata": {},
   "outputs": [
    {
     "name": "stdout",
     "output_type": "stream",
     "text": [
      "Customer cus_QqmvVm4RiAcLeD does not have the subscription item\n",
      "Customer cus_Qo9ToX96Ea2KXp does not have the subscription item\n",
      "Error retrieving subscription sub_1PbqcIDTmNvCxNQyNxns45x8: Request req_PhU1cop6YlTDbH: No such subscription: 'sub_1PbqcIDTmNvCxNQyNxns45x8'\n"
     ]
    }
   ],
   "source": [
    "from typing import List\n",
    "\n",
    "from app.services.stripe.types import Prices\n",
    "\n",
    "\n",
    "for customer in customers:\n",
    "    customer = customer.retrieve(customer.id, expand=[\"subscriptions\"])\n",
    "    subscriptions = customer.subscriptions.data\n",
    "    for sub in subscriptions:\n",
    "        sub_items: List[stripe.SubscriptionItem] = sub[\"items\"].data\n",
    "        sub_item_id = None\n",
    "        for si in sub_items:\n",
    "            if si.price.id == \"price_1Pbq6QDTmNvCxNQyzLLk30Qb\":\n",
    "                sub_id = sub.id\n",
    "                sub_item = si\n",
    "                sub_item_id = si.id\n",
    "                break\n",
    "        if sub_item_id:\n",
    "            break\n",
    "    if not sub_item_id:\n",
    "        print(f\"Customer {customer.id} does not have the subscription item\")\n",
    "        continue\n",
    "    try:\n",
    "        re_sub_item = stripe.SubscriptionItem.retrieve(sub_item_id)\n",
    "        deleted_sub_item = re_sub_item.delete(clear_usage=True)\n",
    "    except Exception as e:\n",
    "        #print(f\"Error deleting subscription item for customer {customer.id}: {e}\")\n",
    "        try:\n",
    "            sub = stripe.Subscription.retrieve(sub_id)\n",
    "            if len(sub[\"items\"].data) != 1:\n",
    "                raise ValueError(\"Subscription has more than one item \"+str(sub[\"items\"].data))\n",
    "            sub.delete()\n",
    "        except Exception as e:\n",
    "            print(f\"Error retrieving subscription {sub_id}: {e}\")"
   ]
  },
  {
   "cell_type": "code",
   "execution_count": 25,
   "metadata": {},
   "outputs": [],
   "source": [
    "re_sub_item = stripe.SubscriptionItem.retrieve(\"si_QjzKJnMRI0ylH9\")"
   ]
  },
  {
   "cell_type": "code",
   "execution_count": 29,
   "metadata": {},
   "outputs": [],
   "source": [
    "deleted_sub_item = re_sub_item.delete(clear_usage=True)"
   ]
  },
  {
   "cell_type": "markdown",
   "metadata": {},
   "source": [
    "### Products and prices for different bots"
   ]
  },
  {
   "cell_type": "code",
   "execution_count": 8,
   "metadata": {},
   "outputs": [],
   "source": [
    "autores_prod = stripe.Product.create(name=\"Autoresolution Bot\")\n",
    "checkout_prod = stripe.Product.create(name=\"Checkout Bot\")"
   ]
  },
  {
   "cell_type": "code",
   "execution_count": 9,
   "metadata": {},
   "outputs": [
    {
     "name": "stdout",
     "output_type": "stream",
     "text": [
      "prod_Ps4NVq304hcUF7\n",
      "prod_Ps4N4REASAWnHe\n"
     ]
    }
   ],
   "source": [
    "print(autores_prod.id)\n",
    "print(checkout_prod.id)"
   ]
  },
  {
   "cell_type": "code",
   "execution_count": 11,
   "metadata": {},
   "outputs": [],
   "source": [
    "autores_voice = stripe.Price.create(nickname=\"Autoresolution per minute of voice chat\",\n",
    "                                    product=\"prod_Ps4NVq304hcUF7\",\n",
    "                                    currency=\"usd\",\n",
    "                                    unit_amount=15,\n",
    "                                    recurring={\"interval\":\"month\", \"usage_type\":\"metered\"},\n",
    "                                    billing_scheme=\"per_unit\",\n",
    "                                    )\n",
    "autores_convo = stripe.Price.create(nickname=\"Autoresolution per chat conversation\",\n",
    "                                    product=\"prod_Ps4NVq304hcUF7\",\n",
    "                                    currency=\"usd\",\n",
    "                                    unit_amount=5,\n",
    "                                    recurring={\"interval\":\"month\", \"usage_type\":\"metered\"},\n",
    "                                    billing_scheme=\"per_unit\",\n",
    "                                    )\n",
    "\n",
    "checkout_voice= stripe.Price.create(nickname=\"Checkout per minute of voice chat\",\n",
    "                                    product=\"prod_Ps4N4REASAWnHe\",\n",
    "                                    currency=\"usd\",\n",
    "                                    unit_amount=10,\n",
    "                                    recurring={\"interval\":\"month\", \"usage_type\":\"metered\"},\n",
    "                                    billing_scheme=\"per_unit\",\n",
    "                                    )\n",
    "\n",
    "checkout_convo = stripe.Price.create(nickname=\"Checkout per chat conversation\",\n",
    "                                    product=\"prod_Ps4N4REASAWnHe\",\n",
    "                                    currency=\"usd\",\n",
    "                                    unit_amount=3,\n",
    "                                    recurring={\"interval\":\"month\", \"usage_type\":\"metered\"},\n",
    "                                    billing_scheme=\"per_unit\",\n",
    "                                    )\n"
   ]
  },
  {
   "cell_type": "code",
   "execution_count": 7,
   "metadata": {},
   "outputs": [
    {
     "name": "stdout",
     "output_type": "stream",
     "text": [
      "Autoresolution per minute of voice chat 15 price_1OwyTMDTmNvCxNQynpS7a0Oo\n",
      "Autoresolution per chat conversation 5 price_1OwyTMDTmNvCxNQyQDVUzTvw\n",
      "Checkout per minute of voice chat 10 price_1OwyTMDTmNvCxNQynVp8R6Fa\n",
      "Checkout per chat conversation 3 price_1OwyTMDTmNvCxNQypUdrQiPZ\n"
     ]
    }
   ],
   "source": [
    "print(autores_voice.nickname,  autores_voice.unit_amount, autores_voice.id)\n",
    "print(autores_convo.nickname, autores_convo.unit_amount,  autores_convo.id)\n",
    "print(checkout_voice.nickname, checkout_voice.unit_amount, checkout_voice.id)\n",
    "print(checkout_convo.nickname, checkout_convo.unit_amount, checkout_convo.id)"
   ]
  },
  {
   "cell_type": "markdown",
   "metadata": {},
   "source": [
    "### Assistant product and usage"
   ]
  },
  {
   "cell_type": "code",
   "execution_count": 3,
   "metadata": {},
   "outputs": [],
   "source": [
    "agent_prod = stripe.Product.create(name=\"Agent\")"
   ]
  },
  {
   "cell_type": "code",
   "execution_count": 4,
   "metadata": {},
   "outputs": [],
   "source": [
    "agent_prod_price = stripe.Price.create(nickname=\"Agent usage\",\n",
    "                                    product=agent_prod.id,\n",
    "                                    currency=\"usd\",\n",
    "                                    unit_amount=1,\n",
    "                                    recurring={\"interval\":\"month\", \"usage_type\":\"metered\"},\n",
    "                                    billing_scheme=\"per_unit\",\n",
    "                                    )"
   ]
  },
  {
   "cell_type": "markdown",
   "metadata": {},
   "source": [
    "## Create customer and their subscription"
   ]
  },
  {
   "cell_type": "code",
   "execution_count": 12,
   "metadata": {},
   "outputs": [],
   "source": [
    "vitranna_customer = stripe.Customer.create(name=\"Vitrinnea\")"
   ]
  },
  {
   "cell_type": "code",
   "execution_count": 13,
   "metadata": {},
   "outputs": [
    {
     "data": {
      "text/plain": [
       "'cus_Ps4OVilG7ZN8DN'"
      ]
     },
     "execution_count": 13,
     "metadata": {},
     "output_type": "execute_result"
    }
   ],
   "source": [
    "vitranna_customer.id"
   ]
  },
  {
   "cell_type": "code",
   "execution_count": 22,
   "metadata": {},
   "outputs": [],
   "source": [
    "vitranna_customer = stripe.Customer.retrieve(\"cus_Ps4OVilG7ZN8DN\", expand=[\"subscriptions\"])"
   ]
  },
  {
   "cell_type": "code",
   "execution_count": 24,
   "metadata": {},
   "outputs": [
    {
     "name": "stdout",
     "output_type": "stream",
     "text": [
      "si_Ps4R4OcvQgiEO8\n",
      "si_Ps4RJfECTGf9Lf\n",
      "si_Ps4RWjxauLzPZ1\n",
      "si_Ps4R6CGIItt20U\n"
     ]
    }
   ],
   "source": [
    "from typing import List\n",
    "items = vitranna_customer.subscriptions.data[0][\"items\"]\n",
    "\n",
    "for si in items.data:\n",
    "    print(si.id)\n",
    "\n"
   ]
  },
  {
   "cell_type": "code",
   "execution_count": 23,
   "metadata": {},
   "outputs": [
    {
     "data": {
      "text/plain": [
       "[<Subscription subscription id=sub_1P2KJ2DTmNvCxNQy39fQrhx5 at 0x121be1ae0> JSON: {\n",
       "   \"application\": null,\n",
       "   \"application_fee_percent\": null,\n",
       "   \"automatic_tax\": {\n",
       "     \"enabled\": false,\n",
       "     \"liability\": null\n",
       "   },\n",
       "   \"billing_cycle_anchor\": 1712352496,\n",
       "   \"billing_cycle_anchor_config\": null,\n",
       "   \"billing_thresholds\": null,\n",
       "   \"cancel_at\": null,\n",
       "   \"cancel_at_period_end\": false,\n",
       "   \"canceled_at\": null,\n",
       "   \"cancellation_details\": {\n",
       "     \"comment\": null,\n",
       "     \"feedback\": null,\n",
       "     \"reason\": null\n",
       "   },\n",
       "   \"collection_method\": \"charge_automatically\",\n",
       "   \"created\": 1712352496,\n",
       "   \"currency\": \"usd\",\n",
       "   \"current_period_end\": 1714944496,\n",
       "   \"current_period_start\": 1712352496,\n",
       "   \"customer\": \"cus_Ps4OVilG7ZN8DN\",\n",
       "   \"days_until_due\": null,\n",
       "   \"default_payment_method\": null,\n",
       "   \"default_source\": null,\n",
       "   \"default_tax_rates\": [],\n",
       "   \"description\": null,\n",
       "   \"discount\": null,\n",
       "   \"discounts\": [],\n",
       "   \"ended_at\": null,\n",
       "   \"id\": \"sub_1P2KJ2DTmNvCxNQy39fQrhx5\",\n",
       "   \"invoice_settings\": {\n",
       "     \"account_tax_ids\": null,\n",
       "     \"issuer\": {\n",
       "       \"type\": \"self\"\n",
       "     }\n",
       "   },\n",
       "   \"items\": {\n",
       "     \"data\": [\n",
       "       {\n",
       "         \"billing_thresholds\": null,\n",
       "         \"created\": 1712352497,\n",
       "         \"discounts\": [],\n",
       "         \"id\": \"si_Ps4R4OcvQgiEO8\",\n",
       "         \"metadata\": {},\n",
       "         \"object\": \"subscription_item\",\n",
       "         \"plan\": {\n",
       "           \"active\": true,\n",
       "           \"aggregate_usage\": null,\n",
       "           \"amount\": 5,\n",
       "           \"amount_decimal\": \"5\",\n",
       "           \"billing_scheme\": \"per_unit\",\n",
       "           \"created\": 1712352252,\n",
       "           \"currency\": \"usd\",\n",
       "           \"id\": \"price_1P2KF6DTmNvCxNQyi2iQbd9O\",\n",
       "           \"interval\": \"month\",\n",
       "           \"interval_count\": 1,\n",
       "           \"livemode\": true,\n",
       "           \"metadata\": {},\n",
       "           \"nickname\": \"Autoresolution per chat conversation\",\n",
       "           \"object\": \"plan\",\n",
       "           \"product\": \"prod_Ps4NVq304hcUF7\",\n",
       "           \"tiers_mode\": null,\n",
       "           \"transform_usage\": null,\n",
       "           \"trial_period_days\": null,\n",
       "           \"usage_type\": \"metered\"\n",
       "         },\n",
       "         \"price\": {\n",
       "           \"active\": true,\n",
       "           \"billing_scheme\": \"per_unit\",\n",
       "           \"created\": 1712352252,\n",
       "           \"currency\": \"usd\",\n",
       "           \"custom_unit_amount\": null,\n",
       "           \"id\": \"price_1P2KF6DTmNvCxNQyi2iQbd9O\",\n",
       "           \"livemode\": true,\n",
       "           \"lookup_key\": null,\n",
       "           \"metadata\": {},\n",
       "           \"nickname\": \"Autoresolution per chat conversation\",\n",
       "           \"object\": \"price\",\n",
       "           \"product\": \"prod_Ps4NVq304hcUF7\",\n",
       "           \"recurring\": {\n",
       "             \"aggregate_usage\": null,\n",
       "             \"interval\": \"month\",\n",
       "             \"interval_count\": 1,\n",
       "             \"trial_period_days\": null,\n",
       "             \"usage_type\": \"metered\"\n",
       "           },\n",
       "           \"tax_behavior\": \"unspecified\",\n",
       "           \"tiers_mode\": null,\n",
       "           \"transform_quantity\": null,\n",
       "           \"type\": \"recurring\",\n",
       "           \"unit_amount\": 5,\n",
       "           \"unit_amount_decimal\": \"5\"\n",
       "         },\n",
       "         \"subscription\": \"sub_1P2KJ2DTmNvCxNQy39fQrhx5\",\n",
       "         \"tax_rates\": []\n",
       "       },\n",
       "       {\n",
       "         \"billing_thresholds\": null,\n",
       "         \"created\": 1712352497,\n",
       "         \"discounts\": [],\n",
       "         \"id\": \"si_Ps4RJfECTGf9Lf\",\n",
       "         \"metadata\": {},\n",
       "         \"object\": \"subscription_item\",\n",
       "         \"plan\": {\n",
       "           \"active\": true,\n",
       "           \"aggregate_usage\": null,\n",
       "           \"amount\": 15,\n",
       "           \"amount_decimal\": \"15\",\n",
       "           \"billing_scheme\": \"per_unit\",\n",
       "           \"created\": 1712352251,\n",
       "           \"currency\": \"usd\",\n",
       "           \"id\": \"price_1P2KF5DTmNvCxNQySnbcEb7q\",\n",
       "           \"interval\": \"month\",\n",
       "           \"interval_count\": 1,\n",
       "           \"livemode\": true,\n",
       "           \"metadata\": {},\n",
       "           \"nickname\": \"Autoresolution per minute of voice chat\",\n",
       "           \"object\": \"plan\",\n",
       "           \"product\": \"prod_Ps4NVq304hcUF7\",\n",
       "           \"tiers_mode\": null,\n",
       "           \"transform_usage\": null,\n",
       "           \"trial_period_days\": null,\n",
       "           \"usage_type\": \"metered\"\n",
       "         },\n",
       "         \"price\": {\n",
       "           \"active\": true,\n",
       "           \"billing_scheme\": \"per_unit\",\n",
       "           \"created\": 1712352251,\n",
       "           \"currency\": \"usd\",\n",
       "           \"custom_unit_amount\": null,\n",
       "           \"id\": \"price_1P2KF5DTmNvCxNQySnbcEb7q\",\n",
       "           \"livemode\": true,\n",
       "           \"lookup_key\": null,\n",
       "           \"metadata\": {},\n",
       "           \"nickname\": \"Autoresolution per minute of voice chat\",\n",
       "           \"object\": \"price\",\n",
       "           \"product\": \"prod_Ps4NVq304hcUF7\",\n",
       "           \"recurring\": {\n",
       "             \"aggregate_usage\": null,\n",
       "             \"interval\": \"month\",\n",
       "             \"interval_count\": 1,\n",
       "             \"trial_period_days\": null,\n",
       "             \"usage_type\": \"metered\"\n",
       "           },\n",
       "           \"tax_behavior\": \"unspecified\",\n",
       "           \"tiers_mode\": null,\n",
       "           \"transform_quantity\": null,\n",
       "           \"type\": \"recurring\",\n",
       "           \"unit_amount\": 15,\n",
       "           \"unit_amount_decimal\": \"15\"\n",
       "         },\n",
       "         \"subscription\": \"sub_1P2KJ2DTmNvCxNQy39fQrhx5\",\n",
       "         \"tax_rates\": []\n",
       "       },\n",
       "       {\n",
       "         \"billing_thresholds\": null,\n",
       "         \"created\": 1712352497,\n",
       "         \"discounts\": [],\n",
       "         \"id\": \"si_Ps4RWjxauLzPZ1\",\n",
       "         \"metadata\": {},\n",
       "         \"object\": \"subscription_item\",\n",
       "         \"plan\": {\n",
       "           \"active\": true,\n",
       "           \"aggregate_usage\": null,\n",
       "           \"amount\": 3,\n",
       "           \"amount_decimal\": \"3\",\n",
       "           \"billing_scheme\": \"per_unit\",\n",
       "           \"created\": 1712352252,\n",
       "           \"currency\": \"usd\",\n",
       "           \"id\": \"price_1P2KF6DTmNvCxNQyvsEkwvzV\",\n",
       "           \"interval\": \"month\",\n",
       "           \"interval_count\": 1,\n",
       "           \"livemode\": true,\n",
       "           \"metadata\": {},\n",
       "           \"nickname\": \"Checkout per chat conversation\",\n",
       "           \"object\": \"plan\",\n",
       "           \"product\": \"prod_Ps4N4REASAWnHe\",\n",
       "           \"tiers_mode\": null,\n",
       "           \"transform_usage\": null,\n",
       "           \"trial_period_days\": null,\n",
       "           \"usage_type\": \"metered\"\n",
       "         },\n",
       "         \"price\": {\n",
       "           \"active\": true,\n",
       "           \"billing_scheme\": \"per_unit\",\n",
       "           \"created\": 1712352252,\n",
       "           \"currency\": \"usd\",\n",
       "           \"custom_unit_amount\": null,\n",
       "           \"id\": \"price_1P2KF6DTmNvCxNQyvsEkwvzV\",\n",
       "           \"livemode\": true,\n",
       "           \"lookup_key\": null,\n",
       "           \"metadata\": {},\n",
       "           \"nickname\": \"Checkout per chat conversation\",\n",
       "           \"object\": \"price\",\n",
       "           \"product\": \"prod_Ps4N4REASAWnHe\",\n",
       "           \"recurring\": {\n",
       "             \"aggregate_usage\": null,\n",
       "             \"interval\": \"month\",\n",
       "             \"interval_count\": 1,\n",
       "             \"trial_period_days\": null,\n",
       "             \"usage_type\": \"metered\"\n",
       "           },\n",
       "           \"tax_behavior\": \"unspecified\",\n",
       "           \"tiers_mode\": null,\n",
       "           \"transform_quantity\": null,\n",
       "           \"type\": \"recurring\",\n",
       "           \"unit_amount\": 3,\n",
       "           \"unit_amount_decimal\": \"3\"\n",
       "         },\n",
       "         \"subscription\": \"sub_1P2KJ2DTmNvCxNQy39fQrhx5\",\n",
       "         \"tax_rates\": []\n",
       "       },\n",
       "       {\n",
       "         \"billing_thresholds\": null,\n",
       "         \"created\": 1712352497,\n",
       "         \"discounts\": [],\n",
       "         \"id\": \"si_Ps4R6CGIItt20U\",\n",
       "         \"metadata\": {},\n",
       "         \"object\": \"subscription_item\",\n",
       "         \"plan\": {\n",
       "           \"active\": true,\n",
       "           \"aggregate_usage\": null,\n",
       "           \"amount\": 10,\n",
       "           \"amount_decimal\": \"10\",\n",
       "           \"billing_scheme\": \"per_unit\",\n",
       "           \"created\": 1712352252,\n",
       "           \"currency\": \"usd\",\n",
       "           \"id\": \"price_1P2KF6DTmNvCxNQyxk9O5TuJ\",\n",
       "           \"interval\": \"month\",\n",
       "           \"interval_count\": 1,\n",
       "           \"livemode\": true,\n",
       "           \"metadata\": {},\n",
       "           \"nickname\": \"Checkout per minute of voice chat\",\n",
       "           \"object\": \"plan\",\n",
       "           \"product\": \"prod_Ps4N4REASAWnHe\",\n",
       "           \"tiers_mode\": null,\n",
       "           \"transform_usage\": null,\n",
       "           \"trial_period_days\": null,\n",
       "           \"usage_type\": \"metered\"\n",
       "         },\n",
       "         \"price\": {\n",
       "           \"active\": true,\n",
       "           \"billing_scheme\": \"per_unit\",\n",
       "           \"created\": 1712352252,\n",
       "           \"currency\": \"usd\",\n",
       "           \"custom_unit_amount\": null,\n",
       "           \"id\": \"price_1P2KF6DTmNvCxNQyxk9O5TuJ\",\n",
       "           \"livemode\": true,\n",
       "           \"lookup_key\": null,\n",
       "           \"metadata\": {},\n",
       "           \"nickname\": \"Checkout per minute of voice chat\",\n",
       "           \"object\": \"price\",\n",
       "           \"product\": \"prod_Ps4N4REASAWnHe\",\n",
       "           \"recurring\": {\n",
       "             \"aggregate_usage\": null,\n",
       "             \"interval\": \"month\",\n",
       "             \"interval_count\": 1,\n",
       "             \"trial_period_days\": null,\n",
       "             \"usage_type\": \"metered\"\n",
       "           },\n",
       "           \"tax_behavior\": \"unspecified\",\n",
       "           \"tiers_mode\": null,\n",
       "           \"transform_quantity\": null,\n",
       "           \"type\": \"recurring\",\n",
       "           \"unit_amount\": 10,\n",
       "           \"unit_amount_decimal\": \"10\"\n",
       "         },\n",
       "         \"subscription\": \"sub_1P2KJ2DTmNvCxNQy39fQrhx5\",\n",
       "         \"tax_rates\": []\n",
       "       }\n",
       "     ],\n",
       "     \"has_more\": false,\n",
       "     \"object\": \"list\",\n",
       "     \"total_count\": 4,\n",
       "     \"url\": \"/v1/subscription_items?subscription=sub_1P2KJ2DTmNvCxNQy39fQrhx5\"\n",
       "   },\n",
       "   \"latest_invoice\": \"in_1P2KJ2DTmNvCxNQyLwBbXo4A\",\n",
       "   \"livemode\": true,\n",
       "   \"metadata\": {},\n",
       "   \"next_pending_invoice_item_invoice\": null,\n",
       "   \"object\": \"subscription\",\n",
       "   \"on_behalf_of\": null,\n",
       "   \"pause_collection\": null,\n",
       "   \"payment_settings\": {\n",
       "     \"payment_method_options\": null,\n",
       "     \"payment_method_types\": null,\n",
       "     \"save_default_payment_method\": \"off\"\n",
       "   },\n",
       "   \"pending_invoice_item_interval\": null,\n",
       "   \"pending_setup_intent\": \"seti_1P2KJ2DTmNvCxNQydQEfldc4\",\n",
       "   \"pending_update\": null,\n",
       "   \"plan\": null,\n",
       "   \"quantity\": null,\n",
       "   \"schedule\": null,\n",
       "   \"start_date\": 1712352496,\n",
       "   \"status\": \"active\",\n",
       "   \"test_clock\": null,\n",
       "   \"transfer_data\": null,\n",
       "   \"trial_end\": null,\n",
       "   \"trial_settings\": {\n",
       "     \"end_behavior\": {\n",
       "       \"missing_payment_method\": \"create_invoice\"\n",
       "     }\n",
       "   },\n",
       "   \"trial_start\": null\n",
       " }]"
      ]
     },
     "execution_count": 23,
     "metadata": {},
     "output_type": "execute_result"
    }
   ],
   "source": [
    "vitranna_customer.subscriptions.data"
   ]
  },
  {
   "cell_type": "code",
   "execution_count": 11,
   "metadata": {},
   "outputs": [
    {
     "data": {
      "text/plain": [
       "'cus_PmSfJ4zzkwIoRl'"
      ]
     },
     "execution_count": 11,
     "metadata": {},
     "output_type": "execute_result"
    }
   ],
   "source": [
    "vitranna_customer.id"
   ]
  },
  {
   "cell_type": "code",
   "execution_count": 16,
   "metadata": {},
   "outputs": [],
   "source": [
    "sub = stripe.Subscription.create(\n",
    "  customer=vitranna_customer.id,\n",
    "  items=[{\"price\":autores_convo.id},\n",
    "         {\"price\":autores_voice.id},\n",
    "         {\"price\":checkout_convo.id},\n",
    "         {\"price\":checkout_voice.id},],\n",
    ")"
   ]
  },
  {
   "cell_type": "code",
   "execution_count": 21,
   "metadata": {},
   "outputs": [
    {
     "data": {
      "text/plain": [
       "'sub_1P2KJ2DTmNvCxNQy39fQrhx5'"
      ]
     },
     "execution_count": 21,
     "metadata": {},
     "output_type": "execute_result"
    }
   ],
   "source": [
    "sub.id"
   ]
  },
  {
   "cell_type": "markdown",
   "metadata": {},
   "source": [
    "## Add phone number to stripe"
   ]
  },
  {
   "cell_type": "code",
   "execution_count": 3,
   "metadata": {},
   "outputs": [],
   "source": [
    "pn_prod = stripe.Product.create(name=\"Phone Number\")"
   ]
  },
  {
   "cell_type": "code",
   "execution_count": 5,
   "metadata": {},
   "outputs": [],
   "source": [
    "pn_price = stripe.Price.create(nickname=\"Phone Number\",\n",
    "                                    product=pn_prod.id,\n",
    "                                    currency=\"usd\",\n",
    "                                    unit_amount=200,\n",
    "                                    recurring={\"interval\":\"month\", \"usage_type\":\"licensed\"},\n",
    "                                    billing_scheme=\"per_unit\",\n",
    "                                    )"
   ]
  },
  {
   "cell_type": "code",
   "execution_count": null,
   "metadata": {},
   "outputs": [],
   "source": [
    "pn_price"
   ]
  },
  {
   "cell_type": "code",
   "execution_count": 8,
   "metadata": {},
   "outputs": [],
   "source": [
    "vitranna_customer = stripe.Customer.retrieve(\"cus_PmSfJ4zzkwIoRl\", expand=[\"subscriptions\"])"
   ]
  },
  {
   "cell_type": "markdown",
   "metadata": {},
   "source": [
    "#### Because this is a liscened usage, there needs to be payment method."
   ]
  },
  {
   "cell_type": "code",
   "execution_count": null,
   "metadata": {},
   "outputs": [],
   "source": [
    "stripe.Customer.modify(vitranna_customer.id, email=\"max@syntag.org\")"
   ]
  },
  {
   "cell_type": "code",
   "execution_count": 18,
   "metadata": {},
   "outputs": [],
   "source": [
    "pn_sub = stripe.Subscription.create(\n",
    "    customer=vitranna_customer.id,\n",
    "    items=[{\"price\":pn_price.id, \"quantity\":1}],\n",
    "    collection_method=\"send_invoice\",\n",
    "    days_until_due=7,\n",
    "    payment_settings={\"payment_method_types\":[\"customer_balance\"]},\n",
    ")"
   ]
  },
  {
   "cell_type": "code",
   "execution_count": 19,
   "metadata": {},
   "outputs": [
    {
     "data": {
      "text/plain": [
       "'sub_1P4CxvDTmNvCxNQykWpV7cEn'"
      ]
     },
     "execution_count": 19,
     "metadata": {},
     "output_type": "execute_result"
    }
   ],
   "source": [
    "pn_sub.id"
   ]
  },
  {
   "cell_type": "code",
   "execution_count": null,
   "metadata": {},
   "outputs": [],
   "source": []
  },
  {
   "cell_type": "markdown",
   "metadata": {},
   "source": [
    "## Add subscription to all stripe customers"
   ]
  },
  {
   "cell_type": "code",
   "execution_count": 23,
   "metadata": {},
   "outputs": [
    {
     "name": "stdout",
     "output_type": "stream",
     "text": [
      "Added agent usage to maxtmp4+clerk_test@gmail.com\n",
      "Added agent usage to maxtmp3+clerk_test@gmail.com\n",
      "Added agent usage to maxtmp2+clerk_test@gmail.com\n",
      "Added agent usage to maxtmp+clerk_test@gmail.com\n",
      "Added agent usage to max1+clerk_test@gmail.com\n",
      "Added agent usage to vivek@syntag.org\n",
      "Added agent usage to vikram.a.khandelwal@gmail.com\n",
      "Added agent usage to nadig.vivek@gmail.com\n",
      "Added agent usage to nadig.vivek@gmail.com\n",
      "Added agent usage to nadig.vivek@gmail.com\n",
      "Added agent usage to nadig.vivek@gmail.com\n",
      "Added agent usage to vivek@syntag.ai\n",
      "Added agent usage to vikram@syntag.ai\n",
      "Added agent usage to kaufmann@terpmail.umd.edu\n",
      "Added agent usage to max906993@gmail.com\n",
      "Added agent usage to max2+clerk_test@gmail.com\n",
      "Added agent usage to max@syntag.org\n"
     ]
    }
   ],
   "source": [
    "customer_list = stripe.Customer.list(limit=100, expand=[\"data.subscriptions\", \"data.invoice_settings\"])\n",
    "while True:\n",
    "    for c in customer_list:\n",
    "        for s in c.subscriptions.get(\"data\"):\n",
    "            items = s.get(\"items\").get(\"data\")\n",
    "            for si in items:\n",
    "                if si.price.id == settings.STRIPE_AGENT_USAGE_PRICE_ID:\n",
    "                    continue\n",
    "                    # stripe.Subscription.cancel(s.get(\"id\"))\n",
    "                    # print(\"Cancelled agent usage for\", c.email)\n",
    "        if not c.default_source and not c.invoice_settings.default_payment_method:\n",
    "            pm_link = stripe.PaymentMethod.attach(\"pm_card_visa\", customer=c.id)\n",
    "            stripe.Customer.modify(c.id, invoice_settings={\"default_payment_method\":pm_link.id})\n",
    "            print(\"Added card to\", c.email)\n",
    "\n",
    "        sub = stripe.Subscription.create(\n",
    "            customer=c.id,\n",
    "            items=[{\"price\": settings.STRIPE_AGENT_USAGE_PRICE_ID}],\n",
    "        )\n",
    "        print(\"Added agent usage to\", c.email)\n",
    "    if not customer_list.has_more:\n",
    "        break\n",
    "    customer_list = stripe.Customer.list(limit=100, starting_after=customer_list.data[-1].id)"
   ]
  },
  {
   "cell_type": "code",
   "execution_count": null,
   "metadata": {},
   "outputs": [],
   "source": []
  }
 ],
 "metadata": {
  "kernelspec": {
   "display_name": ".venv",
   "language": "python",
   "name": "python3"
  },
  "language_info": {
   "codemirror_mode": {
    "name": "ipython",
    "version": 3
   },
   "file_extension": ".py",
   "mimetype": "text/x-python",
   "name": "python",
   "nbconvert_exporter": "python",
   "pygments_lexer": "ipython3",
   "version": "3.9.6"
  }
 },
 "nbformat": 4,
 "nbformat_minor": 2
}

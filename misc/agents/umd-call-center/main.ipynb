{
 "cells": [
  {
   "cell_type": "code",
   "execution_count": 3,
   "metadata": {},
   "outputs": [
    {
     "data": {
      "text/plain": [
       "True"
      ]
     },
     "execution_count": 3,
     "metadata": {},
     "output_type": "execute_result"
    }
   ],
   "source": [
    "from dotenv import load_dotenv\n",
    "load_dotenv(\".env.local\")"
   ]
  },
  {
   "cell_type": "markdown",
   "metadata": {},
   "source": [
    "## .docx to text"
   ]
  },
  {
   "cell_type": "code",
   "execution_count": 78,
   "metadata": {},
   "outputs": [],
   "source": [
    "from langchain_community.document_loaders.doc_intelligence import (\n",
    "    AzureAIDocumentIntelligenceLoader,\n",
    ")\n",
    "import os\n",
    "AZURE_DOCUMENT_INTELLIGENCE_API_KEY = os.getenv(\"AZURE_DOCUMENT_INTELLIGENCE_API_KEY\")\n",
    "def load_docs_adi(filepath: str):\n",
    "    adi = AzureAIDocumentIntelligenceLoader(\n",
    "        \"https://eastus.api.cognitive.microsoft.com\",\n",
    "        AZURE_DOCUMENT_INTELLIGENCE_API_KEY,\n",
    "        file_path=filepath,\n",
    "        api_model=\"prebuilt-read\",\n",
    "    )\n",
    "    docs = adi.load()\n",
    "    return docs"
   ]
  },
  {
   "cell_type": "code",
   "execution_count": 85,
   "metadata": {},
   "outputs": [],
   "source": [
    "from langchain_community.document_loaders import PyPDFLoader\n",
    "\n",
    "def load_docs_pypdf(file_path: str):\n",
    "    pypdf_loader = PyPDFLoader(\n",
    "        file_path = file_path,\n",
    "        password = None,\n",
    "        extract_images = True,\n",
    "        # headers = None\n",
    "        # extraction_mode = \"plain\",\n",
    "        # extraction_kwargs = None,\n",
    "    )\n",
    "    docs = pypdf_loader.load()\n",
    "    return docs"
   ]
  },
  {
   "cell_type": "code",
   "execution_count": 88,
   "metadata": {},
   "outputs": [],
   "source": [
    "current_dir = os.getcwd()\n",
    "file_path = os.path.join(current_dir, \"RA Duty Manual - Final Draft 2023-2024.pdf\")\n",
    "\n",
    "docs = load_docs_pypdf(file_path)"
   ]
  },
  {
   "cell_type": "markdown",
   "metadata": {},
   "source": [
    "## Pinecone"
   ]
  },
  {
   "cell_type": "code",
   "execution_count": 7,
   "metadata": {},
   "outputs": [],
   "source": [
    "from pinecone.grpc import PineconeGRPC as Pinecone\n",
    "from pinecone.grpc import GRPCVector\n",
    "from pinecone.grpc.index_grpc import UpsertResponse\n",
    "\n",
    "PINECONE_API_KEY = os.getenv(\"PINECONE_API_KEY\")\n",
    "PINECONE_HOST = os.getenv(\"PINECONE_HOST\")\n",
    "PINECONE_NAMESPACE = \"umd-call-center\"\n",
    "pc = Pinecone(api_key=PINECONE_API_KEY)\n",
    "pc = Pinecone(api_key=PINECONE_API_KEY)\n",
    "PC_INDEX_NAME = \"knowledge\"\n",
    "pc_index = pc.Index(PC_INDEX_NAME, host=PINECONE_HOST)"
   ]
  },
  {
   "cell_type": "code",
   "execution_count": null,
   "metadata": {},
   "outputs": [],
   "source": [
    "from typing import List\n",
    "def query_pc(vector: List[float]):\n",
    "    query_result = pc_index.query(\n",
    "        vector=vector,\n",
    "        namespace=PINECONE_NAMESPACE,\n",
    "        top_k=10,\n",
    "        #filter={\"knowledge_uuid\": {\"$in\": knowledge_uuids}},\n",
    "        include_metadata=True,\n",
    "        timeout=1,\n",
    "    )\n",
    "    return query_result\n"
   ]
  },
  {
   "cell_type": "markdown",
   "metadata": {},
   "source": [
    "## Create Local Embeddings"
   ]
  },
  {
   "cell_type": "code",
   "execution_count": 91,
   "metadata": {},
   "outputs": [],
   "source": [
    "from langchain_openai import OpenAIEmbeddings\n",
    "OPENAI_API_KEY = os.getenv(\"OPENAI_API_KEY\")\n",
    "\n",
    "embedder = OpenAIEmbeddings(\n",
    "    model=\"text-embedding-3-large\", api_key=OPENAI_API_KEY\n",
    ")"
   ]
  },
  {
   "cell_type": "code",
   "execution_count": 92,
   "metadata": {},
   "outputs": [],
   "source": [
    "from langchain_experimental.text_splitter import SemanticChunker\n",
    "from langchain_text_splitters import RecursiveCharacterTextSplitter\n",
    "from langchain.schema import Document\n",
    "\n",
    "def split_by_semantics(content:str):\n",
    "    semantic_splitter = SemanticChunker(\n",
    "        embedder,\n",
    "        add_start_index=True,\n",
    "        sentence_split_regex=r\"(?<!\\w\\.\\w.)(?<![A-Z][a-z]\\.)(?<=\\.|\\?|\\!)(?=\\s)\",\n",
    "    )\n",
    "    splits = semantic_splitter.split_documents([Document(page_content=content)])\n",
    "    start_index = 0\n",
    "    for i, split in enumerate(splits):\n",
    "        last_index = start_index + len(content) - 1\n",
    "        split.metadata[\"start_index\"] = start_index\n",
    "        start_index = last_index + 1\n",
    "    return splits\n",
    "\n",
    "def split_by_character(content:str):\n",
    "    recursive_splitter = RecursiveCharacterTextSplitter(\n",
    "        chunk_size=800, chunk_overlap=400, add_start_index=True\n",
    "    )\n",
    "    splits = recursive_splitter.split_documents([Document(page_content=content)])\n",
    "    return splits"
   ]
  },
  {
   "cell_type": "markdown",
   "metadata": {},
   "source": [
    "## Generate Test Dataset"
   ]
  },
  {
   "cell_type": "markdown",
   "metadata": {},
   "source": [
    "## Measuring"
   ]
  },
  {
   "cell_type": "markdown",
   "metadata": {},
   "source": [
    "### Retrieval relevence\n",
    "Are the documents that were retrieved relevent to the query"
   ]
  },
  {
   "cell_type": "markdown",
   "metadata": {},
   "source": [
    "### Answer Faithfulness\n",
    "Is the answer grounded in the documents?\n",
    "- This can measure hallucinations"
   ]
  },
  {
   "cell_type": "markdown",
   "metadata": {},
   "source": [
    "### Answer Correctness\n",
    "Is the answer consistent with a reference answer?"
   ]
  },
  {
   "cell_type": "markdown",
   "metadata": {},
   "source": [
    "### Code"
   ]
  },
  {
   "cell_type": "markdown",
   "metadata": {},
   "source": [
    "#### Gen dataset giskard"
   ]
  },
  {
   "cell_type": "code",
   "execution_count": 112,
   "metadata": {},
   "outputs": [],
   "source": [
    "from langchain_core.vectorstores import InMemoryVectorStore\n",
    "from langchain_openai import OpenAIEmbeddings\n",
    "from langchain.schema import Document\n",
    "splits = []\n",
    "for doc in docs:\n",
    "    splits.extend(split_by_character(doc.page_content))"
   ]
  },
  {
   "cell_type": "code",
   "execution_count": 113,
   "metadata": {},
   "outputs": [
    {
     "data": {
      "text/plain": [
       "['f68f0cb5-c77c-4f61-9913-49996156090a',\n",
       " '410fc1f4-2d18-41ed-821d-8ada696ffb92',\n",
       " '84cdecae-1921-4981-95b8-4786ea882520',\n",
       " 'b1caf50c-5689-41dd-bd76-76572cbe9593',\n",
       " 'b793a88d-1e07-4e75-b172-9337fb13a653',\n",
       " 'cb2b7d69-8f86-4c48-ad05-ad337b312ce0',\n",
       " 'b1bd1409-e146-483e-8999-b5e3323130ef',\n",
       " 'f93c0b01-01e5-4527-a22b-fdd868f9e164',\n",
       " 'f26fefdd-870b-4af8-b0ad-7270e66bb8e3',\n",
       " '5b90754d-c506-4c19-a395-37ca2227853c',\n",
       " '50d8f15d-2ab2-4832-9f14-100997637323',\n",
       " 'd827f460-22c9-4879-8f75-b9cf1af01e7d',\n",
       " 'ed5814bb-5276-40a5-9565-e5c9525014f7',\n",
       " '8fb8b4ce-ff82-45a5-8edd-6b2201c3d350',\n",
       " 'ef6cf75f-86af-4c01-a223-9e2dea2935f1',\n",
       " '49c915c0-55b3-4acf-8af3-9131e075f3eb',\n",
       " 'fb6708f3-f228-42eb-a221-22bf6d46482a',\n",
       " '682d7506-9d5f-4575-8646-7fe05e35375d',\n",
       " 'd990cd20-1cd3-4ecb-94e2-261c2438db47',\n",
       " '62b5fd88-30e7-4a0b-b092-83f79ec116b6',\n",
       " 'fe917db0-b3ff-4bfa-a5c6-58939b5388d1',\n",
       " '987e4f40-df7a-49e2-8b4e-14dd95e796ac',\n",
       " '1b1bbe44-c188-4e6c-ba87-4b5faa9a80d7',\n",
       " 'd01aa048-d71f-40fb-988b-5513b9d87d14',\n",
       " 'ada19e31-6d78-43e8-a15f-958cd665c479',\n",
       " '1bfe3ae6-32ae-413e-8283-c14d5ab3757d',\n",
       " '254bc16b-e9ff-4721-aa1e-efa4111cb8ca',\n",
       " 'fb87bf3d-9769-4636-8e1d-647a99950535',\n",
       " 'ad949172-a32c-45e3-b183-b37d4410643a',\n",
       " '09d7e75d-4b9a-48d8-a64b-c87d3a659a87',\n",
       " '517e563a-8cfe-40ce-9fcf-4618e3bdf020',\n",
       " 'b05a58e4-7d93-4c12-8648-100c8ef45a9a',\n",
       " '9127f863-6e37-4788-94cb-bd398c40b78b',\n",
       " '04dc03eb-83c0-47a8-a06a-cb3a00549d95',\n",
       " 'ecfb853f-fa14-4c6e-89d8-6c8100af6ce1',\n",
       " '56719b34-4a45-45c1-aba1-75e65fe333f8',\n",
       " '94b243a1-1288-4a00-8bb2-a0016252af7a',\n",
       " '6bf51562-cad7-4f61-8e2a-58a3055d422b',\n",
       " '05c90b94-6536-490d-8f2e-618e2dfee856',\n",
       " 'd324f8a1-272f-475d-9dc4-31ea04432f4c',\n",
       " '30cb81d1-ff04-4168-88b0-8eb049a1b201',\n",
       " 'de6e8b77-cd3d-4f3e-a2b1-de5344d0ce78',\n",
       " '865e8783-159b-48c3-9b4b-1a54c06e9a20',\n",
       " 'c97777d7-a9af-4247-a2db-6ca069c65961',\n",
       " 'dcf6bb46-0ced-4ea4-a0d2-b2999153d692',\n",
       " 'e392d92e-0ca0-4ff6-ab39-b4a00824e03a',\n",
       " '33744921-35a6-479a-952e-19ebfb5e5d88',\n",
       " 'fc65c439-5cd3-4f29-a721-434803472202',\n",
       " 'a6bbc10b-6d21-4154-9119-5b93e3f10e45',\n",
       " '4e950d36-9870-4afc-9085-fcd84a0d4f94',\n",
       " 'c5caa97e-4c5a-4244-bbd1-7c1e69aaf537',\n",
       " '66c99950-f255-45fb-9ed7-8609c5a7f6d0',\n",
       " '480540e0-9c5d-4e41-a268-246810702ea1',\n",
       " 'ad391001-c3a3-49af-9752-e0e42878bf75',\n",
       " '9bbfcbf1-520a-4d8c-9342-8acc55c586f2',\n",
       " '7ecac979-713b-4bec-b44a-4c406b5476e4',\n",
       " '219f264d-4e76-48b4-9286-2e49bf93ed27',\n",
       " '5ccb1dc0-c3f6-46e0-a0f3-8b33c559bae6',\n",
       " '7aca4a41-1962-4765-a89d-df97b28f4c3f',\n",
       " '556bd526-9c39-49de-b920-99dfc912c128',\n",
       " '5df9000f-71a2-4c75-a2c1-a71526832206',\n",
       " '3d683d97-e980-4b8c-a3b0-cdc0dded6a37',\n",
       " '0a4cc8d3-fd0d-4e72-8c70-0f602c271d8d',\n",
       " 'e240043c-1006-4ae2-9275-30e2e4c104cb',\n",
       " '3a12729c-6d94-4996-9e86-f0eacf14d0e0',\n",
       " '7751e8f4-2460-4b0d-82f1-df420b6b6cb3',\n",
       " '85fb9605-e820-439e-8b48-39c92883fd8b',\n",
       " 'd5281766-4285-47b9-b9e8-2e7d3c06dd86',\n",
       " '98f83f75-62c4-42f2-9b45-b8063c539abe',\n",
       " '1ffa2cfe-f208-4a88-9df4-16249d742f0c',\n",
       " 'd52d3e3e-f90b-474b-9506-d636432cb1ed',\n",
       " '5ec4ef57-a3d8-4a94-b702-31a904cbd193',\n",
       " '4e118917-bfc8-486f-9d17-92ca1498f204',\n",
       " '8abdfa29-895b-4a52-821d-45d25683cc6e',\n",
       " 'c7aaab78-140d-4275-954b-d9a0462b26b6',\n",
       " 'd623fbc8-2f9b-405d-8dcb-4f986066794c',\n",
       " '59e55a15-6438-4056-a156-1a5c002a3d72',\n",
       " '45a450eb-88ba-4621-9e70-20c45717e6b5',\n",
       " 'c3f99a08-99af-4e0f-9d9e-45efefcea73b',\n",
       " '4c862e04-37d1-4d02-8bab-573ae436784f',\n",
       " 'f3508a80-506e-4038-a893-3a6af9759a04',\n",
       " 'a4954093-db74-49e6-abd5-eb259d5e9e8c',\n",
       " 'b86221ad-636b-4e82-a25f-189f4fe78f4a',\n",
       " '73c58372-d694-4d2c-8657-33b6fa97aafe',\n",
       " '45b42375-a538-4aab-a7ce-5dfe521a5c81',\n",
       " '6699004c-8f74-411d-92f5-901d3010bd80',\n",
       " '9a51dffd-f838-49f9-a48a-85a598114e16',\n",
       " '1ec9ee29-23fa-458c-a5fd-ad3fbe5ba4f3',\n",
       " 'c917b2fd-978c-4681-972e-5f4713e7413c',\n",
       " 'fcd82cfc-2127-4ef8-96b1-64acc74fddf9',\n",
       " '4d3db9e1-a0a7-4cb7-a89f-ca8de20dbe59',\n",
       " 'ad76d1f0-9a1c-4bd3-b0cc-bfbe04ac90d4',\n",
       " 'e1a59763-88e0-4177-b1f7-b2e4baae83c7',\n",
       " 'eac6e2b3-9870-4731-82c6-b4abb89ef49c',\n",
       " '60f36802-8ba0-4919-9194-a7b0cbe2bad2',\n",
       " 'f58f31b1-5f5c-4118-b712-f3c5b6c36449',\n",
       " 'c3791b4d-d90a-4343-8ddc-fd89d825fcef',\n",
       " '3ef6ef6d-c47d-4bfb-bf1f-be8cdc5e99fd',\n",
       " '17de31e7-8ea4-4050-9046-7a65ee0321d3',\n",
       " '1bcd7309-8b5e-4b3b-8eb7-d45e56e2c859',\n",
       " '104ac7ed-15bb-4390-b5e4-f3c690a2f4f1',\n",
       " 'f6d80905-2e86-47b7-8b5a-2d72ba31484d',\n",
       " 'a30b1895-1404-4576-8be9-1ccd5295dc5f',\n",
       " '1f846447-6ba6-4383-b623-05dc0ce9a171',\n",
       " 'd7b32c35-2663-4844-95d7-4d37ca0fe2a8',\n",
       " '835897e6-1e46-4d44-9899-1bb54dd6d004',\n",
       " 'a33d896b-157e-4b45-831e-623e2d862d7d',\n",
       " '3ecf3863-ea2d-466d-93c2-4560b1577199',\n",
       " '0a0095ad-975c-42a0-acba-4801fdfcae31',\n",
       " '9fbaa352-1415-4abf-b1e1-dbcfc59b21bb',\n",
       " '359afb61-51b4-4d2b-baeb-9819f18a9865',\n",
       " 'a91826dc-cd9b-4b11-bd64-4d9b2701c9a5',\n",
       " '531bc1bc-cb81-43d0-9a7f-92d241f83a86',\n",
       " '6023fcd6-0772-4013-a86e-5284f8541571',\n",
       " 'cdf62eed-151d-468e-bedb-11769a20b0f3',\n",
       " '0cbc7832-f057-46ec-a91f-a1e69b937ece',\n",
       " '3dd58946-3e4f-4e94-a56f-30726150a30d',\n",
       " '4435506d-e2ac-4e11-82e6-4ae5fee9df68',\n",
       " '841cb596-98e6-481e-bb79-f5f2b2f8e844',\n",
       " '524b78d8-8b53-4a2e-9e47-6fec0e84fd66',\n",
       " '46d096e0-08b9-44a1-8ed4-60d2cae7c7ec',\n",
       " 'f8df5527-505a-4333-a3d5-b7eb808ae97e',\n",
       " '3e771e5f-b848-4c5b-a15c-3d7e46913e63',\n",
       " 'aa2deebc-ca4c-4a8a-8704-2d9e3e6fd675',\n",
       " 'fa319a56-9591-40ad-a805-57b152f2f963',\n",
       " '84d67eae-7973-440e-811d-fb2957a9f165',\n",
       " '32760ed5-c206-4e9c-a21c-ce9294f0548c',\n",
       " 'b9d3c80e-366f-461b-be64-30ee013f5b3f',\n",
       " '958049c5-c724-46e2-b7e6-40d4067bcf1d',\n",
       " '8568350c-01af-4794-b37a-790e0de36cb3',\n",
       " '0b545832-ceed-46bc-9e15-4b28a1d660f9',\n",
       " '99c23295-54c6-415f-9811-840939ee56e8',\n",
       " '507c059d-33fc-4439-b47d-7a0e8bc32424',\n",
       " '3f68c34d-f650-44c8-a620-50073a84e7b4',\n",
       " '920be95b-68b4-44a8-901c-8a7bcfa34c67',\n",
       " '5263f154-516f-46a8-be87-af24c787e659',\n",
       " '8ebe5aeb-76c2-42e8-910c-6766d0f8442f',\n",
       " 'c2a41c8c-6da1-4f4f-92c9-ced2eaa187fc',\n",
       " 'f48734d7-7c6f-44c0-9917-16b10a6af613',\n",
       " 'd8ea26c4-834e-40e4-b4e6-c7f178ba375f',\n",
       " '6d171733-7fa9-43b0-844c-2bdc9cb0066a',\n",
       " '7277776e-b700-4356-a468-3b14f4b8981e',\n",
       " '430c9050-e59b-46f8-bc36-fb3bcc7f3180',\n",
       " 'a569f7f0-73e6-4651-a7ce-85063c642281',\n",
       " '54c413bf-715d-4320-a429-00071d2b41ee',\n",
       " '42d8df56-8cb0-48c6-9008-8c2665994d2b',\n",
       " '10cbcd3e-a529-4c0d-9fce-0ebaa1480399',\n",
       " '7bade5e0-e902-4426-b2c1-52be31af9a7b',\n",
       " '5aef37e6-8594-4c29-974a-e3f1cd8e9619',\n",
       " '8ba02906-b329-4629-bf39-b177a6c2253d',\n",
       " 'e94c1f21-3a9b-46fa-a0b3-a4177955dd61',\n",
       " 'dbd03f47-43e9-4e52-b28b-81465c279c8b',\n",
       " '5bf8b2df-d10d-4f43-a40c-5297d9385668',\n",
       " '00ec4c29-d759-4d85-ae8c-b08bc1a79c00',\n",
       " 'ac25ec71-3a59-42b6-8f80-7e2338728cae',\n",
       " '33c6b3bd-cedb-49dd-abf8-5351e4a1413b',\n",
       " '6c6ec2c8-ef60-4d60-b021-bf98fb28f6b0',\n",
       " '92c11764-b606-4ad7-b83b-c36a8b9ac8d5',\n",
       " '986ebdcb-714f-48c3-af44-1b558402b5af',\n",
       " 'c5a04389-26d8-42d2-bbf1-e214028dd1f9',\n",
       " 'bf313ca2-eb05-44ec-8fde-3a76992148f8',\n",
       " '526b899a-a9b8-4393-a850-2a8a800a88a1',\n",
       " 'f0de8b74-a75d-405a-a012-3f17edc02397',\n",
       " '7c70f8be-a60f-47fa-809b-e88198c63021',\n",
       " '3a716e64-61ba-4720-99f0-36765a2c5bfe',\n",
       " '080fb719-7335-4b71-862d-143796fc8cf2',\n",
       " '9f0df3c6-9f9e-4fbf-a753-baeceb8f28ee',\n",
       " 'b6694a18-03dc-4495-82c1-76d059b9e6f1',\n",
       " 'd58676e2-f1c8-4373-b079-f684cfde5a17',\n",
       " 'c9ef2109-1952-4e67-aa3e-40c81d172c48',\n",
       " '5e8e432b-134e-408f-b8e6-c59a0463112c',\n",
       " 'bc0d9df3-8e66-4cd3-9d12-7ac1d73a24fc',\n",
       " '94cd8c40-f612-421b-9e16-e41b6d68662a',\n",
       " '6b387415-4852-40a3-ae2d-f9b1d7ae99e5',\n",
       " 'c9b6bed6-511f-4914-8981-3adfa328e589',\n",
       " 'f9ba51f4-fff8-4116-8a6e-2ef4e0e6076c',\n",
       " 'ed2c81ee-0de3-45d5-8cb6-02b7a00eebb4',\n",
       " '09e55b79-3e13-4f06-be26-b44b517d879d',\n",
       " '9e1f5a0e-98bc-487e-b63a-40acfa4f8336',\n",
       " '971d2d3d-8cd0-449f-8fcc-4f1e6d823825',\n",
       " '3d2f3397-9b1e-4018-8427-53975e0fadac',\n",
       " '9e9f945b-2293-41c0-ad5f-fd6f69500b50',\n",
       " 'a54dcd0e-030b-46c6-97aa-c290518c7423',\n",
       " 'be43e15b-99e5-4ba6-9747-7b7ed683ad9f',\n",
       " '98ea9974-9652-47f7-8962-d04659d212f5',\n",
       " '92391d10-fef5-4c12-8343-7df4b3ba8eb0',\n",
       " '55e6daee-2cb7-49c8-ad95-fbe9e8e20311',\n",
       " 'f7e4a522-c1db-4f13-a445-49ccff5c84c6',\n",
       " '3c275766-d1fc-4602-baa3-e790da20bf52',\n",
       " 'e1259353-d4e4-48c1-a4ce-5f917b21616c',\n",
       " '01304726-1f92-4d89-9463-2e91727a1e5e',\n",
       " '26e47647-88b1-41f1-aa99-29b445cb49f6',\n",
       " '13891040-4aaa-4af4-8dfe-3697dfbc8d86',\n",
       " '99aef4dd-6375-4e7b-8de4-313aa6c61500',\n",
       " '4bb0567f-f038-4ccb-bc1f-a5401f8b5a00',\n",
       " '94b189dd-7b36-4434-a2be-a80c3e640355',\n",
       " '3f74e44f-8d6e-48e8-be2f-ee786bc826a3',\n",
       " '8b0acd43-6cd7-4a53-8bf6-51aba3b9df3e',\n",
       " '1bba6d05-9345-4564-a817-06ebdd12136b',\n",
       " '8418dfbb-0cfc-48c0-b4f3-cc292f2a84ff',\n",
       " 'c69789f1-40a7-4cd4-b651-458d54629e69',\n",
       " '8104ce47-6df5-446d-a5ca-54ee942d3d52',\n",
       " '170ee92d-eb04-4961-a478-b5ce1711a5cd',\n",
       " '0d851b3d-bd41-4068-8355-c735cb58d022',\n",
       " 'a38aec6c-edf0-445f-8c8f-d9543d9abc2c',\n",
       " 'f6b04900-f6eb-461c-ad61-0a5e9def2f54',\n",
       " '3e46bbe3-e833-4c23-b322-2c0ad2963dea',\n",
       " 'f13a4c70-1a07-4180-93cf-2a71d8d84d34',\n",
       " '9d68dd21-7aba-4326-b7fd-ceabb51a2126',\n",
       " '1abd5fac-d76e-412f-b2db-fd1e822546bf',\n",
       " 'cc4a57a4-2643-4325-9442-31bc67f61a5f',\n",
       " '27d624f9-031a-418c-863d-24c9732af5f0',\n",
       " 'b6f4818d-aa3e-40b2-8c17-21ad6c0f61b4']"
      ]
     },
     "execution_count": 113,
     "metadata": {},
     "output_type": "execute_result"
    }
   ],
   "source": [
    "vector_store = InMemoryVectorStore(OpenAIEmbeddings(model=\"text-embedding-3-large\"))\n",
    "vector_store.add_documents(splits)"
   ]
  },
  {
   "cell_type": "code",
   "execution_count": 114,
   "metadata": {},
   "outputs": [],
   "source": [
    "import pickle\n",
    "with open(\"splits.pkl\", \"wb\") as f:\n",
    "    pickle.dump(splits, f)\n",
    "\n",
    "vector_store.dump(\"vectorstore_splits_character.json\")"
   ]
  },
  {
   "cell_type": "code",
   "execution_count": 115,
   "metadata": {},
   "outputs": [],
   "source": [
    "import pickle\n",
    "with open(\"splits.pkl\", \"rb\") as f:\n",
    "    splits = pickle.load(f)\n",
    "\n",
    "vector_store = InMemoryVectorStore.load(\"vectorstore_splits_character.json\", embedding=OpenAIEmbeddings(model=\"text-embedding-3-large\"))"
   ]
  },
  {
   "cell_type": "code",
   "execution_count": 117,
   "metadata": {},
   "outputs": [],
   "source": [
    "import pandas as pd\n",
    "from giskard.rag import KnowledgeBase\n",
    "knowledge_base_df = pd.DataFrame([i.page_content for i in splits], columns=[\"text\"])\n",
    "knowledge_base = KnowledgeBase(knowledge_base_df)"
   ]
  },
  {
   "cell_type": "code",
   "execution_count": 118,
   "metadata": {},
   "outputs": [],
   "source": [
    "import giskard\n",
    "from giskard.llm.client.openai import OpenAIClient\n",
    "\n",
    "giskard.llm.set_llm_api(\"openai\")\n",
    "oc = OpenAIClient(model=\"gpt-4o-mini\")\n",
    "giskard.llm.set_default_client(oc)"
   ]
  },
  {
   "cell_type": "code",
   "execution_count": 119,
   "metadata": {},
   "outputs": [
    {
     "name": "stdout",
     "output_type": "stream",
     "text": [
      "2024-10-27 17:19:51,625 pid:49470 MainThread giskard.rag  INFO     Finding topics in the knowledge base.\n",
      "2024-10-27 17:19:59,011 pid:49470 MainThread giskard.rag  INFO     Found 5 topics in the knowledge base.\n"
     ]
    },
    {
     "name": "stderr",
     "output_type": "stream",
     "text": [
      "Generating questions: 100%|██████████| 25/25 [00:47<00:00,  1.91s/it]\n"
     ]
    }
   ],
   "source": [
    "from giskard.rag import generate_testset\n",
    "\n",
    "testset = generate_testset(\n",
    "    knowledge_base,\n",
    "    num_questions=25,\n",
    "    language='en',  # optional, we'll auto detect if not provided\n",
    "    agent_description=\"A support agent for the University of Maryland's call center\", # helps generating better questions\n",
    ")"
   ]
  },
  {
   "cell_type": "code",
   "execution_count": 123,
   "metadata": {},
   "outputs": [],
   "source": [
    "testset.save(\"testset25.jsonl\")"
   ]
  },
  {
   "cell_type": "code",
   "execution_count": null,
   "metadata": {},
   "outputs": [],
   "source": [
    "from giskard.rag import QATestset\n",
    "testset = QATestset.load(\"testset25.jsonl\")"
   ]
  },
  {
   "cell_type": "code",
   "execution_count": 120,
   "metadata": {},
   "outputs": [
    {
     "data": {
      "text/html": [
       "<div>\n",
       "<style scoped>\n",
       "    .dataframe tbody tr th:only-of-type {\n",
       "        vertical-align: middle;\n",
       "    }\n",
       "\n",
       "    .dataframe tbody tr th {\n",
       "        vertical-align: top;\n",
       "    }\n",
       "\n",
       "    .dataframe thead th {\n",
       "        text-align: right;\n",
       "    }\n",
       "</style>\n",
       "<table border=\"1\" class=\"dataframe\">\n",
       "  <thead>\n",
       "    <tr style=\"text-align: right;\">\n",
       "      <th></th>\n",
       "      <th>question</th>\n",
       "      <th>reference_answer</th>\n",
       "      <th>reference_context</th>\n",
       "      <th>conversation_history</th>\n",
       "      <th>metadata</th>\n",
       "    </tr>\n",
       "    <tr>\n",
       "      <th>id</th>\n",
       "      <th></th>\n",
       "      <th></th>\n",
       "      <th></th>\n",
       "      <th></th>\n",
       "      <th></th>\n",
       "    </tr>\n",
       "  </thead>\n",
       "  <tbody>\n",
       "    <tr>\n",
       "      <th>b0c34dd1-5373-4a31-b941-b7672d4345bb</th>\n",
       "      <td>What should a Resident Assistant do if there i...</td>\n",
       "      <td>Contact UMPD immediately. RAs should NOT try t...</td>\n",
       "      <td>Document 173: Misconduct (OCRSM): (301)405-114...</td>\n",
       "      <td>[]</td>\n",
       "      <td>{'question_type': 'simple', 'seed_document_id'...</td>\n",
       "    </tr>\n",
       "    <tr>\n",
       "      <th>0e624b2c-5816-4b41-a857-70ec8e87661c</th>\n",
       "      <td>What should you do if there is a question abou...</td>\n",
       "      <td>The person should not be left alone, and UMPD ...</td>\n",
       "      <td>Document 73: Resources● CommunityLivingHandboo...</td>\n",
       "      <td>[]</td>\n",
       "      <td>{'question_type': 'simple', 'seed_document_id'...</td>\n",
       "    </tr>\n",
       "    <tr>\n",
       "      <th>b1a6b840-1519-4eeb-849d-7bdc169bb22b</th>\n",
       "      <td>What is the policy regarding pets in the housi...</td>\n",
       "      <td>Only fish in aquariums no larger than 10 gallo...</td>\n",
       "      <td>Document 100: Resources● HousingAccommodations...</td>\n",
       "      <td>[]</td>\n",
       "      <td>{'question_type': 'simple', 'seed_document_id'...</td>\n",
       "    </tr>\n",
       "    <tr>\n",
       "      <th>3a162c15-735d-415e-8ce6-52cfe8439388</th>\n",
       "      <td>What is the purpose of UMDAlert?</td>\n",
       "      <td>The context does not provide specific informat...</td>\n",
       "      <td>Document 6: 37SevereWeather 37EarlyWarningSyst...</td>\n",
       "      <td>[]</td>\n",
       "      <td>{'question_type': 'simple', 'seed_document_id'...</td>\n",
       "    </tr>\n",
       "    <tr>\n",
       "      <th>0e4454d5-5f36-4e1d-9f31-2d7c4af1d6db</th>\n",
       "      <td>What should be documented according to the pro...</td>\n",
       "      <td>Any vandalism, safety, and facility issues sho...</td>\n",
       "      <td>Document 32: Proppeddoors, fireextinguisher, f...</td>\n",
       "      <td>[]</td>\n",
       "      <td>{'question_type': 'simple', 'seed_document_id'...</td>\n",
       "    </tr>\n",
       "  </tbody>\n",
       "</table>\n",
       "</div>"
      ],
      "text/plain": [
       "                                                                               question  \\\n",
       "id                                                                                        \n",
       "b0c34dd1-5373-4a31-b941-b7672d4345bb  What should a Resident Assistant do if there i...   \n",
       "0e624b2c-5816-4b41-a857-70ec8e87661c  What should you do if there is a question abou...   \n",
       "b1a6b840-1519-4eeb-849d-7bdc169bb22b  What is the policy regarding pets in the housi...   \n",
       "3a162c15-735d-415e-8ce6-52cfe8439388                   What is the purpose of UMDAlert?   \n",
       "0e4454d5-5f36-4e1d-9f31-2d7c4af1d6db  What should be documented according to the pro...   \n",
       "\n",
       "                                                                       reference_answer  \\\n",
       "id                                                                                        \n",
       "b0c34dd1-5373-4a31-b941-b7672d4345bb  Contact UMPD immediately. RAs should NOT try t...   \n",
       "0e624b2c-5816-4b41-a857-70ec8e87661c  The person should not be left alone, and UMPD ...   \n",
       "b1a6b840-1519-4eeb-849d-7bdc169bb22b  Only fish in aquariums no larger than 10 gallo...   \n",
       "3a162c15-735d-415e-8ce6-52cfe8439388  The context does not provide specific informat...   \n",
       "0e4454d5-5f36-4e1d-9f31-2d7c4af1d6db  Any vandalism, safety, and facility issues sho...   \n",
       "\n",
       "                                                                      reference_context  \\\n",
       "id                                                                                        \n",
       "b0c34dd1-5373-4a31-b941-b7672d4345bb  Document 173: Misconduct (OCRSM): (301)405-114...   \n",
       "0e624b2c-5816-4b41-a857-70ec8e87661c  Document 73: Resources● CommunityLivingHandboo...   \n",
       "b1a6b840-1519-4eeb-849d-7bdc169bb22b  Document 100: Resources● HousingAccommodations...   \n",
       "3a162c15-735d-415e-8ce6-52cfe8439388  Document 6: 37SevereWeather 37EarlyWarningSyst...   \n",
       "0e4454d5-5f36-4e1d-9f31-2d7c4af1d6db  Document 32: Proppeddoors, fireextinguisher, f...   \n",
       "\n",
       "                                     conversation_history  \\\n",
       "id                                                          \n",
       "b0c34dd1-5373-4a31-b941-b7672d4345bb                   []   \n",
       "0e624b2c-5816-4b41-a857-70ec8e87661c                   []   \n",
       "b1a6b840-1519-4eeb-849d-7bdc169bb22b                   []   \n",
       "3a162c15-735d-415e-8ce6-52cfe8439388                   []   \n",
       "0e4454d5-5f36-4e1d-9f31-2d7c4af1d6db                   []   \n",
       "\n",
       "                                                                               metadata  \n",
       "id                                                                                       \n",
       "b0c34dd1-5373-4a31-b941-b7672d4345bb  {'question_type': 'simple', 'seed_document_id'...  \n",
       "0e624b2c-5816-4b41-a857-70ec8e87661c  {'question_type': 'simple', 'seed_document_id'...  \n",
       "b1a6b840-1519-4eeb-849d-7bdc169bb22b  {'question_type': 'simple', 'seed_document_id'...  \n",
       "3a162c15-735d-415e-8ce6-52cfe8439388  {'question_type': 'simple', 'seed_document_id'...  \n",
       "0e4454d5-5f36-4e1d-9f31-2d7c4af1d6db  {'question_type': 'simple', 'seed_document_id'...  "
      ]
     },
     "execution_count": 120,
     "metadata": {},
     "output_type": "execute_result"
    }
   ],
   "source": [
    "testset_df = testset.to_pandas()\n",
    "testset_df.head()"
   ]
  },
  {
   "cell_type": "markdown",
   "metadata": {},
   "source": [
    "#### Evaluate gkiskard"
   ]
  },
  {
   "cell_type": "code",
   "execution_count": 127,
   "metadata": {},
   "outputs": [
    {
     "name": "stderr",
     "output_type": "stream",
     "text": [
      "Asking questions to the agent:   0%|          | 0/25 [00:00<?, ?it/s]"
     ]
    },
    {
     "name": "stdout",
     "output_type": "stream",
     "text": [
      "0.7241891073492221\n",
      "0.6205387168476231\n",
      "0.6050754900338735\n"
     ]
    },
    {
     "name": "stderr",
     "output_type": "stream",
     "text": [
      "Asking questions to the agent:   4%|▍         | 1/25 [00:02<00:57,  2.38s/it]"
     ]
    },
    {
     "name": "stdout",
     "output_type": "stream",
     "text": [
      "0.5868435076957883\n",
      "0.5693694257192068\n",
      "0.5591581471096498\n"
     ]
    },
    {
     "name": "stderr",
     "output_type": "stream",
     "text": [
      "Asking questions to the agent:   8%|▊         | 2/25 [00:04<00:49,  2.16s/it]"
     ]
    },
    {
     "name": "stdout",
     "output_type": "stream",
     "text": [
      "0.6144810300854778\n",
      "0.5733218839716107\n",
      "0.4773563073789033\n"
     ]
    },
    {
     "name": "stderr",
     "output_type": "stream",
     "text": [
      "Asking questions to the agent:  12%|█▏        | 3/25 [00:05<00:37,  1.72s/it]"
     ]
    },
    {
     "name": "stdout",
     "output_type": "stream",
     "text": [
      "0.7451413438400871\n",
      "0.6599773284860726\n",
      "0.5947561046246914\n"
     ]
    },
    {
     "name": "stderr",
     "output_type": "stream",
     "text": [
      "Asking questions to the agent:  16%|█▌        | 4/25 [00:06<00:32,  1.54s/it]"
     ]
    },
    {
     "name": "stdout",
     "output_type": "stream",
     "text": [
      "0.4051927607182702\n",
      "0.3987328502874622\n",
      "0.3819548530380381\n"
     ]
    },
    {
     "name": "stderr",
     "output_type": "stream",
     "text": [
      "Asking questions to the agent:  20%|██        | 5/25 [00:09<00:37,  1.87s/it]"
     ]
    },
    {
     "name": "stdout",
     "output_type": "stream",
     "text": [
      "0.3072724130249111\n",
      "0.29565027551725914\n",
      "0.27604629397246094\n"
     ]
    },
    {
     "name": "stderr",
     "output_type": "stream",
     "text": [
      "Asking questions to the agent:  24%|██▍       | 6/25 [00:10<00:29,  1.55s/it]"
     ]
    },
    {
     "name": "stdout",
     "output_type": "stream",
     "text": [
      "0.7300088221605286\n",
      "0.6909497877678316\n",
      "0.682541617588871\n"
     ]
    },
    {
     "name": "stderr",
     "output_type": "stream",
     "text": [
      "Asking questions to the agent:  28%|██▊       | 7/25 [00:11<00:27,  1.53s/it]"
     ]
    },
    {
     "name": "stdout",
     "output_type": "stream",
     "text": [
      "0.560006559154632\n",
      "0.5437383889011225\n",
      "0.5426055831930336\n"
     ]
    },
    {
     "name": "stderr",
     "output_type": "stream",
     "text": [
      "Asking questions to the agent:  32%|███▏      | 8/25 [00:14<00:30,  1.82s/it]"
     ]
    },
    {
     "name": "stdout",
     "output_type": "stream",
     "text": [
      "0.6351098483280861\n",
      "0.6328419837275974\n",
      "0.619882319783254\n"
     ]
    },
    {
     "name": "stderr",
     "output_type": "stream",
     "text": [
      "Asking questions to the agent:  36%|███▌      | 9/25 [00:15<00:29,  1.83s/it]"
     ]
    },
    {
     "name": "stdout",
     "output_type": "stream",
     "text": [
      "0.778357413994732\n",
      "0.7017841228332797\n",
      "0.6511103442984135\n"
     ]
    },
    {
     "name": "stderr",
     "output_type": "stream",
     "text": [
      "Asking questions to the agent:  40%|████      | 10/25 [00:18<00:31,  2.08s/it]"
     ]
    },
    {
     "name": "stdout",
     "output_type": "stream",
     "text": [
      "0.5985726040831316\n",
      "0.5364582705763327\n",
      "0.49331310471372036\n"
     ]
    },
    {
     "name": "stderr",
     "output_type": "stream",
     "text": [
      "Asking questions to the agent:  44%|████▍     | 11/25 [00:21<00:30,  2.20s/it]"
     ]
    },
    {
     "name": "stdout",
     "output_type": "stream",
     "text": [
      "0.6118994272457987\n",
      "0.6037619307267892\n",
      "0.5936619483548947\n"
     ]
    },
    {
     "name": "stderr",
     "output_type": "stream",
     "text": [
      "Asking questions to the agent:  48%|████▊     | 12/25 [00:22<00:26,  2.06s/it]"
     ]
    },
    {
     "name": "stdout",
     "output_type": "stream",
     "text": [
      "0.6754967314442215\n",
      "0.6121562057789364\n",
      "0.5825287903722441\n"
     ]
    },
    {
     "name": "stderr",
     "output_type": "stream",
     "text": [
      "Asking questions to the agent:  52%|█████▏    | 13/25 [00:24<00:24,  2.02s/it]"
     ]
    },
    {
     "name": "stdout",
     "output_type": "stream",
     "text": [
      "0.7162448215689478\n",
      "0.6416745692943348\n",
      "0.6256986767679817\n"
     ]
    },
    {
     "name": "stderr",
     "output_type": "stream",
     "text": [
      "Asking questions to the agent:  56%|█████▌    | 14/25 [00:26<00:20,  1.83s/it]"
     ]
    },
    {
     "name": "stdout",
     "output_type": "stream",
     "text": [
      "0.5258516456165069\n",
      "0.5042206461312705\n",
      "0.49940952667358834\n"
     ]
    },
    {
     "name": "stderr",
     "output_type": "stream",
     "text": [
      "Asking questions to the agent:  60%|██████    | 15/25 [00:29<00:23,  2.33s/it]"
     ]
    },
    {
     "name": "stdout",
     "output_type": "stream",
     "text": [
      "0.7061678360095967\n",
      "0.6576552855531268\n",
      "0.6572457419259239\n"
     ]
    },
    {
     "name": "stderr",
     "output_type": "stream",
     "text": [
      "Asking questions to the agent:  64%|██████▍   | 16/25 [00:31<00:20,  2.22s/it]"
     ]
    },
    {
     "name": "stdout",
     "output_type": "stream",
     "text": [
      "0.7135433277566139\n",
      "0.6741064498172598\n",
      "0.6694283948653671\n"
     ]
    },
    {
     "name": "stderr",
     "output_type": "stream",
     "text": [
      "Asking questions to the agent:  68%|██████▊   | 17/25 [00:34<00:18,  2.26s/it]"
     ]
    },
    {
     "name": "stdout",
     "output_type": "stream",
     "text": [
      "0.7498184155302388\n",
      "0.6445351318615266\n",
      "0.6135984139451814\n"
     ]
    },
    {
     "name": "stderr",
     "output_type": "stream",
     "text": [
      "Asking questions to the agent:  72%|███████▏  | 18/25 [00:35<00:14,  2.02s/it]"
     ]
    },
    {
     "name": "stdout",
     "output_type": "stream",
     "text": [
      "0.637130545681463\n",
      "0.6289167083860592\n",
      "0.6045614383098812\n"
     ]
    },
    {
     "name": "stderr",
     "output_type": "stream",
     "text": [
      "Asking questions to the agent:  76%|███████▌  | 19/25 [00:37<00:11,  1.89s/it]"
     ]
    },
    {
     "name": "stdout",
     "output_type": "stream",
     "text": [
      "0.5786756898740966\n",
      "0.4954904717714237\n",
      "0.4196484350077793\n"
     ]
    },
    {
     "name": "stderr",
     "output_type": "stream",
     "text": [
      "Asking questions to the agent:  80%|████████  | 20/25 [00:38<00:08,  1.66s/it]"
     ]
    },
    {
     "name": "stdout",
     "output_type": "stream",
     "text": [
      "0.8700859265221232\n",
      "0.5514638343155064\n",
      "0.3601710118811716\n"
     ]
    },
    {
     "name": "stderr",
     "output_type": "stream",
     "text": [
      "Asking questions to the agent:  84%|████████▍ | 21/25 [00:39<00:05,  1.45s/it]"
     ]
    },
    {
     "name": "stdout",
     "output_type": "stream",
     "text": [
      "0.19482005120081536\n",
      "0.17292918163602117\n",
      "0.1713101424338184\n"
     ]
    },
    {
     "name": "stderr",
     "output_type": "stream",
     "text": [
      "Asking questions to the agent:  88%|████████▊ | 22/25 [00:40<00:03,  1.33s/it]"
     ]
    },
    {
     "name": "stdout",
     "output_type": "stream",
     "text": [
      "0.19482005120081536\n",
      "0.17292918163602117\n",
      "0.1713101424338184\n"
     ]
    },
    {
     "name": "stderr",
     "output_type": "stream",
     "text": [
      "Asking questions to the agent:  92%|█████████▏| 23/25 [00:41<00:02,  1.22s/it]"
     ]
    },
    {
     "name": "stdout",
     "output_type": "stream",
     "text": [
      "0.18816208673665402\n",
      "0.18252578447634601\n",
      "0.17730803220299624\n"
     ]
    },
    {
     "name": "stderr",
     "output_type": "stream",
     "text": [
      "Asking questions to the agent:  96%|█████████▌| 24/25 [00:42<00:01,  1.17s/it]"
     ]
    },
    {
     "name": "stdout",
     "output_type": "stream",
     "text": [
      "0.19483867577811398\n",
      "0.1729828845231799\n",
      "0.17135938693853894\n"
     ]
    },
    {
     "name": "stderr",
     "output_type": "stream",
     "text": [
      "Asking questions to the agent: 100%|██████████| 25/25 [00:43<00:00,  1.74s/it]\n",
      "Asking questions to the agent: 100%|██████████| 25/25 [00:43<00:00,  1.74s/it]\n",
      "CorrectnessMetric evaluation: 100%|██████████| 25/25 [00:39<00:00,  1.57s/it]\n"
     ]
    }
   ],
   "source": [
    "from giskard.rag import evaluate\n",
    "import openai\n",
    "\n",
    "# Wrap your RAG model\n",
    "def get_answer_fn(question: str, history=None) -> str:\n",
    "    \"\"\"A function representing your RAG agent.\"\"\"\n",
    "    # Format appropriately the history for your RAG agent\n",
    "    messages = history if history else []\n",
    "    messages.append({\"role\": \"user\", \"content\": question})\n",
    "\n",
    "    system_message = \"Search results found the following information that might be relevent: \"\n",
    "    similarity_search_with_score = vector_store.similarity_search_with_score(question, k=3)\n",
    "    for i, doc_score in enumerate(similarity_search_with_score):\n",
    "        doc, score = doc_score\n",
    "        system_message += f\"Source {i}. Relevency Score: {score}:\\n\"+ doc.page_content + \"\\n\\n\"\n",
    "        print(score)\n",
    "    \n",
    "    messages.append({\"role\": \"system\", \"content\": system_message})\n",
    "\n",
    "    reminder_message = \"Remember, you are on a phone call. Your response to the caller should be accurate and concise. Do not monologue. Here is the caller's message:\"\n",
    "    messages.append({\"role\": \"system\", \"content\": reminder_message})\n",
    "\n",
    "    chatcompletion = openai.chat.completions.create(messages=messages, model=\"gpt-4o-mini\")\n",
    "    answer = chatcompletion.choices[0].message.content\n",
    "    return answer\n",
    "\n",
    "\n",
    "#ragas_context_recall = RagasMetric(name=\"RAGAS Context Recall\", metric=context_recall, requires_context=True)\n",
    "\n",
    "report = evaluate(get_answer_fn, testset=testset, knowledge_base=knowledge_base)"
   ]
  },
  {
   "cell_type": "code",
   "execution_count": null,
   "metadata": {},
   "outputs": [],
   "source": [
    "#display(report)  # if you are working in a notebook\n",
    "\n",
    "# or save the report as an HTML file\n",
    "#report.to_html(\"rag_eval_report.html\")"
   ]
  },
  {
   "cell_type": "code",
   "execution_count": 130,
   "metadata": {},
   "outputs": [],
   "source": [
    "report.save(\"reports/gpt_4o_mini-splits_character-top3-pypdf\")"
   ]
  },
  {
   "cell_type": "code",
   "execution_count": 71,
   "metadata": {},
   "outputs": [],
   "source": [
    "from giskard.rag import RAGReport\n",
    "loaded_report = RAGReport.load(\"basic_report\")"
   ]
  },
  {
   "cell_type": "code",
   "execution_count": 65,
   "metadata": {},
   "outputs": [
    {
     "data": {
      "text/plain": [
       "<giskard.rag.knowledge_base.KnowledgeBase at 0x341418ce0>"
      ]
     },
     "execution_count": 65,
     "metadata": {},
     "output_type": "execute_result"
    }
   ],
   "source": [
    "report._knowledge_base._to_"
   ]
  },
  {
   "cell_type": "code",
   "execution_count": 63,
   "metadata": {},
   "outputs": [
    {
     "data": {
      "text/html": [
       "<div>\n",
       "<style scoped>\n",
       "    .dataframe tbody tr th:only-of-type {\n",
       "        vertical-align: middle;\n",
       "    }\n",
       "\n",
       "    .dataframe tbody tr th {\n",
       "        vertical-align: top;\n",
       "    }\n",
       "\n",
       "    .dataframe thead th {\n",
       "        text-align: right;\n",
       "    }\n",
       "</style>\n",
       "<table border=\"1\" class=\"dataframe\">\n",
       "  <thead>\n",
       "    <tr style=\"text-align: right;\">\n",
       "      <th></th>\n",
       "      <th>question</th>\n",
       "      <th>reference_answer</th>\n",
       "      <th>reference_context</th>\n",
       "      <th>conversation_history</th>\n",
       "      <th>metadata</th>\n",
       "      <th>agent_answer</th>\n",
       "      <th>correctness</th>\n",
       "      <th>correctness_reason</th>\n",
       "    </tr>\n",
       "    <tr>\n",
       "      <th>id</th>\n",
       "      <th></th>\n",
       "      <th></th>\n",
       "      <th></th>\n",
       "      <th></th>\n",
       "      <th></th>\n",
       "      <th></th>\n",
       "      <th></th>\n",
       "      <th></th>\n",
       "    </tr>\n",
       "  </thead>\n",
       "  <tbody>\n",
       "    <tr>\n",
       "      <th>9c63fed4-b956-4aa0-9501-741321f4f034</th>\n",
       "      <td>What happens if a student does not work throug...</td>\n",
       "      <td>If a student does not work through Labor Day, ...</td>\n",
       "      <td>Document 147: summer benefits\\nSummer housing ...</td>\n",
       "      <td>[]</td>\n",
       "      <td>{'question_type': 'simple', 'seed_document_id'...</td>\n",
       "      <td>If a student living in summer housing does not...</td>\n",
       "      <td>False</td>\n",
       "      <td>The agent provided a general response about im...</td>\n",
       "    </tr>\n",
       "    <tr>\n",
       "      <th>f29be739-0393-44a5-a519-7912dba4c9e1</th>\n",
       "      <td>What should a staff member do if they are goin...</td>\n",
       "      <td>They are expected to immediately call the Serv...</td>\n",
       "      <td>Document 45: If a staff member is unable to re...</td>\n",
       "      <td>[]</td>\n",
       "      <td>{'question_type': 'simple', 'seed_document_id'...</td>\n",
       "      <td>If a staff member knows they will be late for ...</td>\n",
       "      <td>False</td>\n",
       "      <td>The agent provided a general response about no...</td>\n",
       "    </tr>\n",
       "    <tr>\n",
       "      <th>fb530e2e-e211-41f1-9c11-3e5bc8078666</th>\n",
       "      <td>In order to be considered for a promotion to t...</td>\n",
       "      <td>An employee must work a minimum of 120 total h...</td>\n",
       "      <td>Document 135: a. Possess a satisfactory perfor...</td>\n",
       "      <td>[]</td>\n",
       "      <td>{'question_type': 'complex', 'seed_document_id...</td>\n",
       "      <td>The minimum total number of hours an employee ...</td>\n",
       "      <td>False</td>\n",
       "      <td>The agent did not provide the specific minimum...</td>\n",
       "    </tr>\n",
       "    <tr>\n",
       "      <th>c9e0790a-3be2-4adf-b9bd-7de3f0c01105</th>\n",
       "      <td>Could you specify the individuals who hold the...</td>\n",
       "      <td>Only the Service Center Assistant Manager, Man...</td>\n",
       "      <td>Document 162: All keys, swipes and key rings i...</td>\n",
       "      <td>[]</td>\n",
       "      <td>{'question_type': 'complex', 'seed_document_id...</td>\n",
       "      <td>The authority to approve the signing out of ke...</td>\n",
       "      <td>False</td>\n",
       "      <td>The agent provided a broader list of roles tha...</td>\n",
       "    </tr>\n",
       "    <tr>\n",
       "      <th>94e282d7-352b-42f9-b78e-762e24a61c1d</th>\n",
       "      <td>What steps should a student take regarding the...</td>\n",
       "      <td>If you have a student parking permit, remove i...</td>\n",
       "      <td>Document 55: If you have a student parking per...</td>\n",
       "      <td>[]</td>\n",
       "      <td>{'question_type': 'distracting element', 'seed...</td>\n",
       "      <td>If a student has received a written warning fo...</td>\n",
       "      <td>False</td>\n",
       "      <td>The agent provided a detailed response about g...</td>\n",
       "    </tr>\n",
       "    <tr>\n",
       "      <th>e049d396-2658-4b2f-8722-e42697cdc731</th>\n",
       "      <td>In the event that a substitute fails to report...</td>\n",
       "      <td>The original (scheduled/assigned) staff member...</td>\n",
       "      <td>Document 48: If the substitute does not report...</td>\n",
       "      <td>[]</td>\n",
       "      <td>{'question_type': 'distracting element', 'seed...</td>\n",
       "      <td>When a substitute fails to report for their sc...</td>\n",
       "      <td>False</td>\n",
       "      <td>The agent provided a detailed response about t...</td>\n",
       "    </tr>\n",
       "    <tr>\n",
       "      <th>14060525-e7cd-4fa3-b239-501a78dc994c</th>\n",
       "      <td>Hi, I'm a staff member at the university and I...</td>\n",
       "      <td>The driver should take the vehicle out to Moto...</td>\n",
       "      <td>Document 171: Vehicles should never be returne...</td>\n",
       "      <td>[]</td>\n",
       "      <td>{'question_type': 'situational', 'seed_documen...</td>\n",
       "      <td>It's important to ensure that university vehic...</td>\n",
       "      <td>False</td>\n",
       "      <td>The agent provided general refueling procedure...</td>\n",
       "    </tr>\n",
       "    <tr>\n",
       "      <th>42d9bf93-4e26-4fef-b301-c31e7cd69bd8</th>\n",
       "      <td>Hi there, I’m currently dealing with an unexpe...</td>\n",
       "      <td>If a staff member is not able to safely travel...</td>\n",
       "      <td>Document 63: In the event the University has a...</td>\n",
       "      <td>[]</td>\n",
       "      <td>{'question_type': 'situational', 'seed_documen...</td>\n",
       "      <td>If you are a staff member unable to safely tra...</td>\n",
       "      <td>False</td>\n",
       "      <td>The agent provided a detailed response about g...</td>\n",
       "    </tr>\n",
       "    <tr>\n",
       "      <th>ad2c7d12-7bb1-4710-9efc-16f83d2bbbeb</th>\n",
       "      <td>What is the main purpose of the Service Center...</td>\n",
       "      <td>The Service Center serves as the main communic...</td>\n",
       "      <td>Document 6: The Department of Residential Faci...</td>\n",
       "      <td>[]</td>\n",
       "      <td>{'question_type': 'double', 'original_question...</td>\n",
       "      <td>The main purpose of the Service Center is to p...</td>\n",
       "      <td>False</td>\n",
       "      <td>The agent provided a general description of th...</td>\n",
       "    </tr>\n",
       "    <tr>\n",
       "      <th>dc21b28c-3d62-4a84-83fc-ba8b83599849</th>\n",
       "      <td>What are the consequences?</td>\n",
       "      <td>Forgetting ID when working and using key slip ...</td>\n",
       "      <td>Document 182: not completing work in the box o...</td>\n",
       "      <td>[{'role': 'user', 'content': 'I want to know w...</td>\n",
       "      <td>{'question_type': 'conversational', 'seed_docu...</td>\n",
       "      <td>The consequences of an employee forgetting the...</td>\n",
       "      <td>False</td>\n",
       "      <td>The agent provided a detailed explanation of p...</td>\n",
       "    </tr>\n",
       "  </tbody>\n",
       "</table>\n",
       "</div>"
      ],
      "text/plain": [
       "                                                                               question  \\\n",
       "id                                                                                        \n",
       "9c63fed4-b956-4aa0-9501-741321f4f034  What happens if a student does not work throug...   \n",
       "f29be739-0393-44a5-a519-7912dba4c9e1  What should a staff member do if they are goin...   \n",
       "fb530e2e-e211-41f1-9c11-3e5bc8078666  In order to be considered for a promotion to t...   \n",
       "c9e0790a-3be2-4adf-b9bd-7de3f0c01105  Could you specify the individuals who hold the...   \n",
       "94e282d7-352b-42f9-b78e-762e24a61c1d  What steps should a student take regarding the...   \n",
       "e049d396-2658-4b2f-8722-e42697cdc731  In the event that a substitute fails to report...   \n",
       "14060525-e7cd-4fa3-b239-501a78dc994c  Hi, I'm a staff member at the university and I...   \n",
       "42d9bf93-4e26-4fef-b301-c31e7cd69bd8  Hi there, I’m currently dealing with an unexpe...   \n",
       "ad2c7d12-7bb1-4710-9efc-16f83d2bbbeb  What is the main purpose of the Service Center...   \n",
       "dc21b28c-3d62-4a84-83fc-ba8b83599849                         What are the consequences?   \n",
       "\n",
       "                                                                       reference_answer  \\\n",
       "id                                                                                        \n",
       "9c63fed4-b956-4aa0-9501-741321f4f034  If a student does not work through Labor Day, ...   \n",
       "f29be739-0393-44a5-a519-7912dba4c9e1  They are expected to immediately call the Serv...   \n",
       "fb530e2e-e211-41f1-9c11-3e5bc8078666  An employee must work a minimum of 120 total h...   \n",
       "c9e0790a-3be2-4adf-b9bd-7de3f0c01105  Only the Service Center Assistant Manager, Man...   \n",
       "94e282d7-352b-42f9-b78e-762e24a61c1d  If you have a student parking permit, remove i...   \n",
       "e049d396-2658-4b2f-8722-e42697cdc731  The original (scheduled/assigned) staff member...   \n",
       "14060525-e7cd-4fa3-b239-501a78dc994c  The driver should take the vehicle out to Moto...   \n",
       "42d9bf93-4e26-4fef-b301-c31e7cd69bd8  If a staff member is not able to safely travel...   \n",
       "ad2c7d12-7bb1-4710-9efc-16f83d2bbbeb  The Service Center serves as the main communic...   \n",
       "dc21b28c-3d62-4a84-83fc-ba8b83599849  Forgetting ID when working and using key slip ...   \n",
       "\n",
       "                                                                      reference_context  \\\n",
       "id                                                                                        \n",
       "9c63fed4-b956-4aa0-9501-741321f4f034  Document 147: summer benefits\\nSummer housing ...   \n",
       "f29be739-0393-44a5-a519-7912dba4c9e1  Document 45: If a staff member is unable to re...   \n",
       "fb530e2e-e211-41f1-9c11-3e5bc8078666  Document 135: a. Possess a satisfactory perfor...   \n",
       "c9e0790a-3be2-4adf-b9bd-7de3f0c01105  Document 162: All keys, swipes and key rings i...   \n",
       "94e282d7-352b-42f9-b78e-762e24a61c1d  Document 55: If you have a student parking per...   \n",
       "e049d396-2658-4b2f-8722-e42697cdc731  Document 48: If the substitute does not report...   \n",
       "14060525-e7cd-4fa3-b239-501a78dc994c  Document 171: Vehicles should never be returne...   \n",
       "42d9bf93-4e26-4fef-b301-c31e7cd69bd8  Document 63: In the event the University has a...   \n",
       "ad2c7d12-7bb1-4710-9efc-16f83d2bbbeb  Document 6: The Department of Residential Faci...   \n",
       "dc21b28c-3d62-4a84-83fc-ba8b83599849  Document 182: not completing work in the box o...   \n",
       "\n",
       "                                                                   conversation_history  \\\n",
       "id                                                                                        \n",
       "9c63fed4-b956-4aa0-9501-741321f4f034                                                 []   \n",
       "f29be739-0393-44a5-a519-7912dba4c9e1                                                 []   \n",
       "fb530e2e-e211-41f1-9c11-3e5bc8078666                                                 []   \n",
       "c9e0790a-3be2-4adf-b9bd-7de3f0c01105                                                 []   \n",
       "94e282d7-352b-42f9-b78e-762e24a61c1d                                                 []   \n",
       "e049d396-2658-4b2f-8722-e42697cdc731                                                 []   \n",
       "14060525-e7cd-4fa3-b239-501a78dc994c                                                 []   \n",
       "42d9bf93-4e26-4fef-b301-c31e7cd69bd8                                                 []   \n",
       "ad2c7d12-7bb1-4710-9efc-16f83d2bbbeb                                                 []   \n",
       "dc21b28c-3d62-4a84-83fc-ba8b83599849  [{'role': 'user', 'content': 'I want to know w...   \n",
       "\n",
       "                                                                               metadata  \\\n",
       "id                                                                                        \n",
       "9c63fed4-b956-4aa0-9501-741321f4f034  {'question_type': 'simple', 'seed_document_id'...   \n",
       "f29be739-0393-44a5-a519-7912dba4c9e1  {'question_type': 'simple', 'seed_document_id'...   \n",
       "fb530e2e-e211-41f1-9c11-3e5bc8078666  {'question_type': 'complex', 'seed_document_id...   \n",
       "c9e0790a-3be2-4adf-b9bd-7de3f0c01105  {'question_type': 'complex', 'seed_document_id...   \n",
       "94e282d7-352b-42f9-b78e-762e24a61c1d  {'question_type': 'distracting element', 'seed...   \n",
       "e049d396-2658-4b2f-8722-e42697cdc731  {'question_type': 'distracting element', 'seed...   \n",
       "14060525-e7cd-4fa3-b239-501a78dc994c  {'question_type': 'situational', 'seed_documen...   \n",
       "42d9bf93-4e26-4fef-b301-c31e7cd69bd8  {'question_type': 'situational', 'seed_documen...   \n",
       "ad2c7d12-7bb1-4710-9efc-16f83d2bbbeb  {'question_type': 'double', 'original_question...   \n",
       "dc21b28c-3d62-4a84-83fc-ba8b83599849  {'question_type': 'conversational', 'seed_docu...   \n",
       "\n",
       "                                                                           agent_answer  \\\n",
       "id                                                                                        \n",
       "9c63fed4-b956-4aa0-9501-741321f4f034  If a student living in summer housing does not...   \n",
       "f29be739-0393-44a5-a519-7912dba4c9e1  If a staff member knows they will be late for ...   \n",
       "fb530e2e-e211-41f1-9c11-3e5bc8078666  The minimum total number of hours an employee ...   \n",
       "c9e0790a-3be2-4adf-b9bd-7de3f0c01105  The authority to approve the signing out of ke...   \n",
       "94e282d7-352b-42f9-b78e-762e24a61c1d  If a student has received a written warning fo...   \n",
       "e049d396-2658-4b2f-8722-e42697cdc731  When a substitute fails to report for their sc...   \n",
       "14060525-e7cd-4fa3-b239-501a78dc994c  It's important to ensure that university vehic...   \n",
       "42d9bf93-4e26-4fef-b301-c31e7cd69bd8  If you are a staff member unable to safely tra...   \n",
       "ad2c7d12-7bb1-4710-9efc-16f83d2bbbeb  The main purpose of the Service Center is to p...   \n",
       "dc21b28c-3d62-4a84-83fc-ba8b83599849  The consequences of an employee forgetting the...   \n",
       "\n",
       "                                      correctness  \\\n",
       "id                                                  \n",
       "9c63fed4-b956-4aa0-9501-741321f4f034        False   \n",
       "f29be739-0393-44a5-a519-7912dba4c9e1        False   \n",
       "fb530e2e-e211-41f1-9c11-3e5bc8078666        False   \n",
       "c9e0790a-3be2-4adf-b9bd-7de3f0c01105        False   \n",
       "94e282d7-352b-42f9-b78e-762e24a61c1d        False   \n",
       "e049d396-2658-4b2f-8722-e42697cdc731        False   \n",
       "14060525-e7cd-4fa3-b239-501a78dc994c        False   \n",
       "42d9bf93-4e26-4fef-b301-c31e7cd69bd8        False   \n",
       "ad2c7d12-7bb1-4710-9efc-16f83d2bbbeb        False   \n",
       "dc21b28c-3d62-4a84-83fc-ba8b83599849        False   \n",
       "\n",
       "                                                                     correctness_reason  \n",
       "id                                                                                       \n",
       "9c63fed4-b956-4aa0-9501-741321f4f034  The agent provided a general response about im...  \n",
       "f29be739-0393-44a5-a519-7912dba4c9e1  The agent provided a general response about no...  \n",
       "fb530e2e-e211-41f1-9c11-3e5bc8078666  The agent did not provide the specific minimum...  \n",
       "c9e0790a-3be2-4adf-b9bd-7de3f0c01105  The agent provided a broader list of roles tha...  \n",
       "94e282d7-352b-42f9-b78e-762e24a61c1d  The agent provided a detailed response about g...  \n",
       "e049d396-2658-4b2f-8722-e42697cdc731  The agent provided a detailed response about t...  \n",
       "14060525-e7cd-4fa3-b239-501a78dc994c  The agent provided general refueling procedure...  \n",
       "42d9bf93-4e26-4fef-b301-c31e7cd69bd8  The agent provided a detailed response about g...  \n",
       "ad2c7d12-7bb1-4710-9efc-16f83d2bbbeb  The agent provided a general description of th...  \n",
       "dc21b28c-3d62-4a84-83fc-ba8b83599849  The agent provided a detailed explanation of p...  "
      ]
     },
     "execution_count": 63,
     "metadata": {},
     "output_type": "execute_result"
    }
   ],
   "source": [
    "report.failures"
   ]
  },
  {
   "cell_type": "markdown",
   "metadata": {},
   "source": [
    "## Misc "
   ]
  },
  {
   "cell_type": "code",
   "execution_count": null,
   "metadata": {},
   "outputs": [],
   "source": [
    "from pinecone.grpc import PineconeGRPC as Pinecone\n",
    "from pinecone.grpc import GRPCVector\n",
    "from pinecone.grpc.index_grpc import UpsertResponse\n",
    "\n",
    "PINECONE_API_KEY = os.getenv(\"PINECONE_API_KEY\")\n",
    "PINECONE_HOST = os.getenv(\"PINECONE_HOST\")\n",
    "PINECONE_NAMESPACE = \"umd-call-center\"\n",
    "pc = Pinecone(api_key=PINECONE_API_KEY)\n",
    "pc = Pinecone(api_key=PINECONE_API_KEY)\n",
    "PC_INDEX_NAME = \"knowledge\"\n",
    "pc_index = pc.Index(PC_INDEX_NAME, host=PINECONE_HOST)"
   ]
  },
  {
   "cell_type": "code",
   "execution_count": null,
   "metadata": {},
   "outputs": [],
   "source": [
    "from typing import List\n",
    "def query_pc(vector: List[float]):\n",
    "    query_result = pc_index.query(\n",
    "        vector=vector,\n",
    "        namespace=PINECONE_NAMESPACE,\n",
    "        top_k=10,\n",
    "        #filter={\"knowledge_uuid\": {\"$in\": knowledge_uuids}},\n",
    "        include_metadata=True,\n",
    "        timeout=1,\n",
    "    )\n",
    "    return query_result\n"
   ]
  },
  {
   "cell_type": "code",
   "execution_count": null,
   "metadata": {},
   "outputs": [],
   "source": [
    "import numpy as np\n",
    "\n",
    "def cosine_similarity(vec1, vec2):\n",
    "    # Compute dot product\n",
    "    dot_product = np.dot(vec1, vec2)\n",
    "    # Compute magnitudes\n",
    "    magnitude_vec1 = np.linalg.norm(vec1)\n",
    "    magnitude_vec2 = np.linalg.norm(vec2)\n",
    "    # Calculate cosine similarity\n",
    "    if magnitude_vec1 == 0 or magnitude_vec2 == 0:\n",
    "        return 0  # Handle the case of zero magnitude\n",
    "    return dot_product / (magnitude_vec1 * magnitude_vec2)\n"
   ]
  }
 ],
 "metadata": {
  "kernelspec": {
   "display_name": ".venv",
   "language": "python",
   "name": "python3"
  },
  "language_info": {
   "codemirror_mode": {
    "name": "ipython",
    "version": 3
   },
   "file_extension": ".py",
   "mimetype": "text/x-python",
   "name": "python",
   "nbconvert_exporter": "python",
   "pygments_lexer": "ipython3",
   "version": "3.12.5"
  }
 },
 "nbformat": 4,
 "nbformat_minor": 2
}

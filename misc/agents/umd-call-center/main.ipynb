{
 "cells": [
  {
   "cell_type": "code",
   "execution_count": 3,
   "metadata": {},
   "outputs": [
    {
     "data": {
      "text/plain": [
       "True"
      ]
     },
     "execution_count": 3,
     "metadata": {},
     "output_type": "execute_result"
    }
   ],
   "source": [
    "from dotenv import load_dotenv\n",
    "load_dotenv(\".env.local\")"
   ]
  },
  {
   "cell_type": "markdown",
   "metadata": {},
   "source": [
    "## .docx to text"
   ]
  },
  {
   "cell_type": "markdown",
   "metadata": {},
   "source": [
    "### AzureAI Document Intelligence"
   ]
  },
  {
   "cell_type": "code",
   "execution_count": 78,
   "metadata": {},
   "outputs": [],
   "source": [
    "from langchain_community.document_loaders.doc_intelligence import (\n",
    "    AzureAIDocumentIntelligenceLoader,\n",
    ")\n",
    "import os\n",
    "AZURE_DOCUMENT_INTELLIGENCE_API_KEY = os.getenv(\"AZURE_DOCUMENT_INTELLIGENCE_API_KEY\")\n",
    "def load_docs_adi(filepath: str):\n",
    "    adi = AzureAIDocumentIntelligenceLoader(\n",
    "        \"https://eastus.api.cognitive.microsoft.com\",\n",
    "        AZURE_DOCUMENT_INTELLIGENCE_API_KEY,\n",
    "        file_path=filepath,\n",
    "        api_model=\"prebuilt-read\",\n",
    "    )\n",
    "    docs = adi.load()\n",
    "    return docs"
   ]
  },
  {
   "cell_type": "markdown",
   "metadata": {},
   "source": [
    "### PyPDF"
   ]
  },
  {
   "cell_type": "code",
   "execution_count": 85,
   "metadata": {},
   "outputs": [],
   "source": [
    "from langchain_community.document_loaders import PyPDFLoader\n",
    "\n",
    "def load_docs_pypdf(file_path: str):\n",
    "    pypdf_loader = PyPDFLoader(\n",
    "        file_path = file_path,\n",
    "        password = None,\n",
    "        extract_images = True,\n",
    "        # headers = None\n",
    "        # extraction_mode = \"plain\",\n",
    "        # extraction_kwargs = None,\n",
    "    )\n",
    "    docs = pypdf_loader.load()\n",
    "    return docs"
   ]
  },
  {
   "cell_type": "markdown",
   "metadata": {},
   "source": [
    "### Zerox"
   ]
  },
  {
   "cell_type": "code",
   "execution_count": 132,
   "metadata": {},
   "outputs": [],
   "source": [
    "from langchain.schema import Document\n",
    "def load_docs_zerox(path:str):\n",
    "    with open(path, \"r\") as f:\n",
    "        data = f.read()\n",
    "    return [Document(page_content=data)]"
   ]
  },
  {
   "cell_type": "code",
   "execution_count": 133,
   "metadata": {},
   "outputs": [],
   "source": [
    "current_dir = os.getcwd()\n",
    "#file_path = os.path.join(current_dir, \"RA Duty Manual - Final Draft 2023-2024.pdf\")\n",
    "file_path = os.path.join(current_dir, \"./zerox/output.md\")\n",
    "\n",
    "docs = load_docs_zerox(file_path)"
   ]
  },
  {
   "cell_type": "markdown",
   "metadata": {},
   "source": [
    "## Pinecone"
   ]
  },
  {
   "cell_type": "code",
   "execution_count": 7,
   "metadata": {},
   "outputs": [],
   "source": [
    "from pinecone.grpc import PineconeGRPC as Pinecone\n",
    "from pinecone.grpc import GRPCVector\n",
    "from pinecone.grpc.index_grpc import UpsertResponse\n",
    "\n",
    "PINECONE_API_KEY = os.getenv(\"PINECONE_API_KEY\")\n",
    "PINECONE_HOST = os.getenv(\"PINECONE_HOST\")\n",
    "PINECONE_NAMESPACE = \"umd-call-center\"\n",
    "pc = Pinecone(api_key=PINECONE_API_KEY)\n",
    "pc = Pinecone(api_key=PINECONE_API_KEY)\n",
    "PC_INDEX_NAME = \"knowledge\"\n",
    "pc_index = pc.Index(PC_INDEX_NAME, host=PINECONE_HOST)"
   ]
  },
  {
   "cell_type": "code",
   "execution_count": null,
   "metadata": {},
   "outputs": [],
   "source": [
    "from typing import List\n",
    "def query_pc(vector: List[float]):\n",
    "    query_result = pc_index.query(\n",
    "        vector=vector,\n",
    "        namespace=PINECONE_NAMESPACE,\n",
    "        top_k=10,\n",
    "        #filter={\"knowledge_uuid\": {\"$in\": knowledge_uuids}},\n",
    "        include_metadata=True,\n",
    "        timeout=1,\n",
    "    )\n",
    "    return query_result\n"
   ]
  },
  {
   "cell_type": "markdown",
   "metadata": {},
   "source": [
    "## Create Local Embeddings"
   ]
  },
  {
   "cell_type": "code",
   "execution_count": 134,
   "metadata": {},
   "outputs": [],
   "source": [
    "from langchain_openai import OpenAIEmbeddings\n",
    "OPENAI_API_KEY = os.getenv(\"OPENAI_API_KEY\")\n",
    "\n",
    "embedder = OpenAIEmbeddings(\n",
    "    model=\"text-embedding-3-large\", api_key=OPENAI_API_KEY\n",
    ")"
   ]
  },
  {
   "cell_type": "code",
   "execution_count": 135,
   "metadata": {},
   "outputs": [],
   "source": [
    "from langchain_experimental.text_splitter import SemanticChunker\n",
    "from langchain_text_splitters import RecursiveCharacterTextSplitter\n",
    "from langchain.schema import Document\n",
    "\n",
    "def split_by_semantics(content:str):\n",
    "    semantic_splitter = SemanticChunker(\n",
    "        embedder,\n",
    "        add_start_index=True,\n",
    "        sentence_split_regex=r\"(?<!\\w\\.\\w.)(?<![A-Z][a-z]\\.)(?<=\\.|\\?|\\!)(?=\\s)\",\n",
    "    )\n",
    "    splits = semantic_splitter.split_documents([Document(page_content=content)])\n",
    "    start_index = 0\n",
    "    for i, split in enumerate(splits):\n",
    "        last_index = start_index + len(content) - 1\n",
    "        split.metadata[\"start_index\"] = start_index\n",
    "        start_index = last_index + 1\n",
    "    return splits\n",
    "\n",
    "def split_by_character(content:str):\n",
    "    recursive_splitter = RecursiveCharacterTextSplitter(\n",
    "        chunk_size=800, chunk_overlap=400, add_start_index=True\n",
    "    )\n",
    "    splits = recursive_splitter.split_documents([Document(page_content=content)])\n",
    "    return splits"
   ]
  },
  {
   "cell_type": "markdown",
   "metadata": {},
   "source": [
    "## Generate Test Dataset"
   ]
  },
  {
   "cell_type": "markdown",
   "metadata": {},
   "source": [
    "## Measuring"
   ]
  },
  {
   "cell_type": "markdown",
   "metadata": {},
   "source": [
    "### Retrieval relevence\n",
    "Are the documents that were retrieved relevent to the query"
   ]
  },
  {
   "cell_type": "markdown",
   "metadata": {},
   "source": [
    "### Answer Faithfulness\n",
    "Is the answer grounded in the documents?\n",
    "- This can measure hallucinations"
   ]
  },
  {
   "cell_type": "markdown",
   "metadata": {},
   "source": [
    "### Answer Correctness\n",
    "Is the answer consistent with a reference answer?"
   ]
  },
  {
   "cell_type": "markdown",
   "metadata": {},
   "source": [
    "### Code"
   ]
  },
  {
   "cell_type": "markdown",
   "metadata": {},
   "source": [
    "#### Gen dataset giskard"
   ]
  },
  {
   "cell_type": "code",
   "execution_count": 136,
   "metadata": {},
   "outputs": [],
   "source": [
    "from langchain_core.vectorstores import InMemoryVectorStore\n",
    "from langchain_openai import OpenAIEmbeddings\n",
    "from langchain.schema import Document\n",
    "splits = []\n",
    "for doc in docs:\n",
    "    splits.extend(split_by_character(doc.page_content))"
   ]
  },
  {
   "cell_type": "code",
   "execution_count": 137,
   "metadata": {},
   "outputs": [
    {
     "data": {
      "text/plain": [
       "['8aa6cf10-812f-48d8-8437-7cb0de6a4243',\n",
       " 'be365dfb-f8c9-4b6f-a14b-c3966d0030f6',\n",
       " '122f53f0-5f27-41b5-9633-b2d95b1aa255',\n",
       " 'c7f7e036-cd31-4451-a069-6facce129fc4',\n",
       " '031777de-28ab-42bb-adfd-ee31b11d5d82',\n",
       " '846b9aea-9354-49f5-a9f2-aa49898d2611',\n",
       " '89e572f4-cedd-4344-9948-da49e8fd9c52',\n",
       " 'd7c99160-9bfe-4504-a202-f15ad1b0c917',\n",
       " '80e4da48-ed34-4ac0-8510-8f05df238c97',\n",
       " 'a476cfc0-a78f-404c-8924-c037aef868d5',\n",
       " 'a14f7877-7908-4a60-9637-8afafd922d91',\n",
       " 'dc483b9d-2599-486f-b49f-2d7f093b94a9',\n",
       " '7c551313-4487-436f-8bb5-8a94d78374b6',\n",
       " '11ab8557-09ce-4c6d-8529-c091effd5f35',\n",
       " 'aef5caba-f69f-498e-a2ec-a16d67766363',\n",
       " 'c3f3d7e6-64c4-4ffd-8720-f33ee477c62f',\n",
       " '43b90a1e-6879-4ce9-8b47-4fadc62c33d0',\n",
       " 'be12fb19-56fe-4e73-958c-90e6ba39cbce',\n",
       " '1410d79f-43a5-44e1-ab00-477d7e48fc6e',\n",
       " '98d9c228-4ba5-4dfb-a651-324e69a503c2',\n",
       " '24ebf26d-f6d4-4207-b58c-6797e6650761',\n",
       " '3bb3986d-b857-4ba5-89b3-b376e2e66f93',\n",
       " 'e387d3e5-f08c-4591-858f-b3769ea6196e',\n",
       " '90972e69-6e18-4c63-9a08-8c1ef86881ed',\n",
       " 'd715e570-b012-4362-a494-ae8bbe2205e5',\n",
       " 'ac25dc1b-178d-4d26-a1e2-102722a7961a',\n",
       " 'c0edb0c9-15fe-4da8-a473-ffa6f569a3d6',\n",
       " '2c09b98c-4fc2-4088-9c63-790f76027bfd',\n",
       " '1e37d870-72f3-4fa8-91dd-92864a035010',\n",
       " 'd4a3662a-be1c-4856-a6a3-fa01f88b9338',\n",
       " '12ee2d53-7e1b-4494-b67f-bac263de2ea6',\n",
       " '589bcd63-2fd0-466d-93e9-5929f05331ec',\n",
       " 'cee6e76a-f8d9-4af7-a262-54e54b581950',\n",
       " '56637553-bed4-49a7-a21d-9906dbd4a73b',\n",
       " 'db43135e-67a7-43d0-9a14-a1ed9d5e5fa8',\n",
       " '4161c19b-4e94-44e2-b8ba-62746357849b',\n",
       " '9df6666f-b3ec-4b50-9d5b-394d0a4a307b',\n",
       " '12c3743d-810a-4fd1-af84-3fb8babf4d4f',\n",
       " 'a9ae3d35-0522-4001-81e7-65d83c93939e',\n",
       " '95e7dbc1-53d8-4e25-855c-5f0e53031d8d',\n",
       " '35d2d650-2f0d-4f29-bf96-158941abaf19',\n",
       " 'fa6aada9-db19-4fca-8ed7-d8cd492f4897',\n",
       " 'c51cabf4-d6be-45b4-b9ad-ebd36e2d85ae',\n",
       " 'cc5bd9cb-6bdd-481f-a1bc-db06ccda0581',\n",
       " '0dd044e3-2956-44bf-a138-b03cb2547731',\n",
       " 'e5574bf0-676c-4a75-bd9d-72eb2b3d62e1',\n",
       " 'da044576-7e69-462b-b226-161e4c64c77d',\n",
       " '354cf79a-0abf-464a-88eb-4721c2586461',\n",
       " '16e2fa10-cf13-4f94-9471-d5fd364bfb89',\n",
       " '6b8901ee-8b24-4aa0-b52e-4b6af3a0be54',\n",
       " 'feaa73fd-58a6-4f29-a923-004cbcbe685e',\n",
       " '6215c080-2ecb-4275-8148-11302aa4880b',\n",
       " '4b93404b-3a00-4be0-a042-0854e21b4b4c',\n",
       " '3043b449-2966-4b8c-8853-2b1f0ea5e94a',\n",
       " '27082dd5-2790-4584-bfdc-73591ac55710',\n",
       " '900b354b-9a05-4815-86db-0441792056f5',\n",
       " 'f41bc8de-6c2a-411d-985a-c12bc6ded9cf',\n",
       " 'dd129d05-c947-493c-a8f6-477fcf08f45a',\n",
       " '6d1d6e36-e4b1-4123-8642-be6ba360a5c3',\n",
       " '83ac75b4-86f4-41d2-9060-dd57fad7badc',\n",
       " '28f0729e-01ce-45ac-8a44-9955a3ff56ec',\n",
       " '49907f9a-aedb-4ad7-9485-8dfa8697261b',\n",
       " '4b7ce9f2-4fc3-404a-ab1c-10769beabd6a',\n",
       " 'e0735b9c-d38e-40dd-84db-d3d39f437046',\n",
       " '5e16e2a8-ff93-4268-919f-70fe0d4c0277',\n",
       " '0f9b9381-0583-402d-9925-e71b3b3f4e50',\n",
       " '3a4e1ce4-1a28-4c48-ba93-7698281b4d91',\n",
       " '0386be8f-f973-4b11-94e2-e24a2016c8bd',\n",
       " '71bd8a33-c9e7-48d3-82cf-9e77a2def30a',\n",
       " '96b994f4-dc56-4574-9711-8aab98ffa673',\n",
       " 'b0b365f7-a2f4-454d-a4f8-e60d3f437f75',\n",
       " '9b931cf5-21df-4496-98da-69d98867b5a5',\n",
       " 'b8d5ec7b-1575-4229-a586-e69ee57d254b',\n",
       " 'b2e5ff6d-d057-493f-99e6-7c133c2ec0f6',\n",
       " '5c723945-e483-4890-846e-89015beb0717',\n",
       " '0e0f2cd4-7f44-4099-ba6d-3d967576499d',\n",
       " 'c7998948-909f-4186-ae88-a4413c5c20a4',\n",
       " 'bbc676dc-deab-40b5-b029-6cc13012e866',\n",
       " 'fd643d59-d39c-47fd-8fcf-9b90de28e523',\n",
       " 'c1eb03ea-5aff-41e1-b7d4-7790a2885234',\n",
       " 'd5daf102-c0b2-4670-a900-7c78521af5db',\n",
       " 'e1f7fca8-0793-45c5-a64c-3770ec0c7148',\n",
       " '27ee52ff-e99b-423d-b424-abd807c6092e',\n",
       " '65b22488-c44f-42aa-b509-f142b9c6b54a',\n",
       " 'a58c29a6-d2f4-4b8b-9c0f-130d4ee48a34',\n",
       " '9c00dc11-693f-44cb-b41c-7c2e382a7cc1',\n",
       " '4a210805-d22a-4cab-83cc-2effe1a93cb1',\n",
       " '73f7a526-798e-49c7-9325-db1b095776b2',\n",
       " '272bdb4b-7d47-4019-8d3a-859d43510ac4',\n",
       " '7f9b9f8b-c934-447b-9a43-c5c02cda3287',\n",
       " '90539c4b-7d05-43d6-9a5c-fc0d76381392',\n",
       " '1c3752fd-d3f5-4304-bf2f-648b5b3225b0',\n",
       " '26c101e2-262e-4d2e-bdd9-848c70dbfa48',\n",
       " '36dd30ca-a0f5-4f95-b005-70bb1e8774ad',\n",
       " '80cc5d0c-3c46-470e-9a55-8dd477f8df98',\n",
       " '2f7f1f65-8ed2-442f-8069-a18c29f7a2b4',\n",
       " '5531ffa1-606b-4a08-99af-d685ff3a93f2',\n",
       " '1bef2a3b-5c12-4b89-bbd4-f7e699d5fe6f',\n",
       " '5cc10cf9-c0e9-4486-8145-bddfe3d342a8',\n",
       " '39b46110-5cdd-47f7-929d-b967b7a3d96d',\n",
       " 'caaf4284-3ad3-46cc-a745-e75118ead88e',\n",
       " '34c11ba6-f480-46ea-8ed1-498cd6cdcfb9',\n",
       " '11754067-8dea-4b38-aa47-e3ac0250930b',\n",
       " 'd1015298-253f-453d-bf98-7544c4aba2d2',\n",
       " 'b9361672-a8f4-49b4-b58b-3348796a840f',\n",
       " '7302610f-f384-43d9-a4ec-667beae06147',\n",
       " '4907a779-d2dd-47ae-8baa-1c72e13caf58',\n",
       " '21ce7ce2-7e66-43b8-a97d-0fb0070256fa',\n",
       " '98b8edd8-0add-425f-9ca1-be1a071bc53b',\n",
       " '4e69dcdd-636d-48b0-94ed-585d8742cb7a',\n",
       " 'f9d63dcf-3304-4a7a-a6c9-9017da4d48ff',\n",
       " '10b18f2b-36b6-4e2d-b3d9-61d8d40374b8',\n",
       " 'a751455b-6266-4141-a420-69763397ed32',\n",
       " 'f0fdfd41-80aa-4d73-853f-d7848137c6f4',\n",
       " '0476b6f1-cfaf-4052-8059-4a5cac6a49bb',\n",
       " 'cb32ecf6-8368-4b06-bddf-f119a4baa1c3',\n",
       " 'bae640c8-da79-47be-86ba-0d53619c967e',\n",
       " '077ec3a0-4abe-4e77-9fa7-aba657579dbd',\n",
       " '0778a1cc-700d-4cf9-9217-6db58a19ae24',\n",
       " '15b5f229-a9c1-4a54-a09d-ea0dbde917c0',\n",
       " '2694d024-5bb0-47ab-aafb-8efef2adfc6c',\n",
       " 'b4b39c25-c425-47fd-83fe-3d079c17e9f2',\n",
       " '5f24b996-d2bf-46cc-a04e-f37d8d942083',\n",
       " 'f735a0f2-cd79-485d-97a1-b2508e887c48',\n",
       " '44ef7c98-9bc6-4fb1-b3a1-9ae4ad27615e',\n",
       " 'b97c7f28-3eec-43ee-93d0-f08c693c3bcd',\n",
       " '2a4f47e9-0784-4db1-b822-8dc30e70e1b4',\n",
       " 'b30975e9-7f74-4a1c-8d0d-4720c61e0e1a',\n",
       " '98997740-0e39-410c-8d6a-b74012710165',\n",
       " 'be7dcb90-7d3c-4905-84b0-31b5ce32cf47',\n",
       " '478cedc7-3019-481c-b1b8-d9111cd846bc',\n",
       " '3779b8f5-d312-4fbf-8f5b-006c39ffc441',\n",
       " 'e4d16d98-710f-4e13-86f9-6425ac19dab9',\n",
       " 'a05ae339-e8aa-4c88-9819-ba825ea39603',\n",
       " '0cb537d5-43aa-4dc7-a87c-cc53934f71b6',\n",
       " 'd5bbdaef-29c6-4968-bba3-bcc88638cd6d',\n",
       " '5c8d823a-4ebb-4dc0-b934-967a855a348e',\n",
       " '4aa08043-4c19-4361-bbec-db6b13cda348',\n",
       " '08a14354-856e-4296-ac71-537d2dea4451',\n",
       " '6cab853d-814b-4797-90e3-38a8a2bbe7b4',\n",
       " 'c214b6a8-0c66-44cd-abf5-2ab5f7272ad8',\n",
       " 'bb1845aa-26e6-45f0-9b50-baca3e795495',\n",
       " '4fdf278c-bacd-44fb-93c8-6c8889712884',\n",
       " 'bd16cdb6-dae1-4a7f-bfd5-2feae2f5fe4c',\n",
       " '6eed5f98-2718-4bd0-bd74-fe95808eae16',\n",
       " '0968a766-a008-46ef-a187-0a669ccde107',\n",
       " '0617827d-4159-4f3e-b8f2-d9912165558d',\n",
       " '3ffbe1e3-efcc-405d-8e3e-e4302a7a6945',\n",
       " '4fbeb163-dad4-47ca-be13-a953cfda33c8',\n",
       " 'e76362e5-ec51-4dd8-bdc5-3f7cb2ff7e9e',\n",
       " '1c0e7f1e-dc95-4c9e-9e36-c5c70e63fed2',\n",
       " '94bdbad7-f788-420a-870e-945448ff022d',\n",
       " '77be847c-9b3f-4382-8033-6ac914c02b91',\n",
       " '54b9295c-4be4-42d4-a6c2-296112a667a0',\n",
       " 'e38ab827-b481-47aa-a37c-afdbac09a3ee',\n",
       " 'daec1bb6-b602-4f46-b7a7-914135adfa21',\n",
       " '706bbe4a-3e7b-458a-af76-1bcd88055623',\n",
       " '5259c2fe-be9c-43d1-a157-4128e24d8723',\n",
       " 'd5c245b5-c9b2-4e1c-ab17-caa0275e915b',\n",
       " '6981c14e-a1f2-4209-a296-114d1351eb03',\n",
       " '050e1db0-8c2e-40b5-bf2d-b1aff550f9e2',\n",
       " 'e38bd50e-21c1-43e7-bf50-69d885076543',\n",
       " '251b5c9a-b49f-4397-834f-836cd293e825',\n",
       " 'f479577e-6567-4df6-aa60-45fdec7afb31',\n",
       " '858d4320-2488-4d40-8a6f-04c7730779a3',\n",
       " '41d76ad9-532c-4c6f-9446-9582fc4bd338',\n",
       " 'a73c7c7a-b615-4272-ac60-2e6acd0b0036',\n",
       " '591eefe1-ea57-47b3-a2a9-2ecf3c37c56e',\n",
       " '05ae09c8-eb21-4e07-83a2-5f53d2c01b3c',\n",
       " '42c5c961-dc8f-43c9-9207-14601490ea3c',\n",
       " 'fe3af00a-37e8-4ed8-ac7a-b967602fee85',\n",
       " '5bd674a9-4e1d-478c-a32e-e836c31c33e9',\n",
       " '8d3fb8e5-3833-4995-8a05-46be73ac0a73',\n",
       " '66a7c3bc-0adc-43cf-b9a0-39be31a0786d',\n",
       " 'fd94217c-28fe-414e-95f2-d41a18b019a3',\n",
       " '5c017c9f-0727-4301-9a9e-6b5de74a4e86',\n",
       " '32dfe6ee-7c1d-45a9-b18c-4ca819b8661e',\n",
       " '92fe99b5-4239-4f71-9f66-ca7ed851f5d9',\n",
       " '3c5ece53-a173-4752-84a1-c063184da782',\n",
       " '40425d8c-80f3-4ee4-85f7-c1e3353f219b',\n",
       " '35e60844-8b39-40ae-930e-edf233c90ee7',\n",
       " '191efac2-9b8c-4434-937d-d8481c64dc83',\n",
       " '7e000675-093e-4ec6-9fa4-0f25891a60fc',\n",
       " '6d6e9429-aaf1-448d-a689-bd9832dffdc2',\n",
       " 'f5beb811-aa60-40f8-a7d8-3fe7fef1925f',\n",
       " '415e464a-8e32-43f6-9141-ab863fe4d178',\n",
       " '295d71f3-b2a5-40dc-97c9-3daf797b37e9',\n",
       " '3d185142-70d0-4785-8238-dfecab56fd4c',\n",
       " '13c54033-cd4a-43f7-95d5-087d36bdba00',\n",
       " '13ee1a22-a5ec-4252-8cb0-cb9047e07dc7',\n",
       " '73830eb7-fb78-436f-a09d-5074dbe3cd88',\n",
       " '68c579fe-0419-41bf-98f5-d9f80506d37b',\n",
       " '44eb6ff4-f1c7-4e28-b205-fdcd38404f71',\n",
       " 'd8d4ed23-35a4-4247-8c0c-20ae9476e4a8',\n",
       " 'c2235e77-f7c6-4590-86f2-e2038d68ce74',\n",
       " '22ed3970-9121-4574-a0fc-5f9bfbb9e85d',\n",
       " '6b492189-97b7-4167-8932-544ba3114042',\n",
       " '4b81d470-f0cb-44f1-9935-91a137c1080f',\n",
       " '9377e5e5-e936-4f46-9f9d-e1431cfb1aae',\n",
       " '424c88d6-02e7-4e0c-a234-460b93386a68',\n",
       " 'c8849666-a39f-4934-8f9a-d89f2d1c8e09',\n",
       " '3669b173-4543-405f-a261-70df5a19b576',\n",
       " '0c762382-1cd2-4c4f-85ab-146cc6257d26',\n",
       " 'e450b330-363d-46b7-a890-2960df26513a',\n",
       " '3b305337-3d58-4509-a5e3-7a66a6d0d66e',\n",
       " '26d144d5-d037-4cd3-b169-56e9500ecae3',\n",
       " 'df9b0c56-ced3-484a-a4ee-7c5b1099e246',\n",
       " 'fff281da-0e67-4807-aa9d-6a73730176ca',\n",
       " '40225786-8121-461d-b13c-3c2704e6aeef',\n",
       " '58873b88-1b6c-4a8e-8a28-bd4c225bf516',\n",
       " '48af7d4e-5caa-4a69-b081-3f004d0dafe9',\n",
       " '0c96db62-ef26-434e-b55a-de33c2718516',\n",
       " '1b92cacc-68ea-4e5b-916e-db9bb5e14d78',\n",
       " 'f8a8cbc4-96b5-47ec-9191-d05e1b688f38',\n",
       " 'db8dab4c-4a07-47f3-b43c-d0309b1d90ab',\n",
       " 'f7fd6c7c-5753-42f7-8204-5064f30788e7',\n",
       " 'f7600650-a681-409c-b231-6ba71a2b8249',\n",
       " '1cc389d1-3ec5-4e2a-8e10-1242d8cf305e',\n",
       " '5c7ce6b6-0d11-4272-b5da-ae99a5f79926',\n",
       " 'd2978bf7-c5c8-4611-a681-ae519fbd6872',\n",
       " 'dea182f6-0427-429f-b697-cd3dfbf58be3',\n",
       " 'd5f85a9f-beb2-444e-b81e-66c0c4d1613f',\n",
       " '64ba167d-3f48-4bac-9202-5e095cfdb7c3',\n",
       " '28ddd7f5-177c-499b-9965-3fe042e39500',\n",
       " 'bbfd15aa-c491-4784-9b8d-2eac03fe95d3',\n",
       " '8b710a28-de20-44d5-b9aa-01ede92da0b1',\n",
       " '2a71cbe1-1ac8-434d-bbdc-3fbd4e0c39ff',\n",
       " 'b39cfff6-52a5-4da5-b7ee-1d2542083d68',\n",
       " 'cc0b5c6b-065e-4ce9-a0a6-9ca82edb8962',\n",
       " '7bdc13f4-b73c-45e7-b5ce-8b1263425b75',\n",
       " '3fa68841-5d03-4f1d-8b98-04f11c963227',\n",
       " 'b494027f-b7bd-4cab-8170-b22c8eea447e',\n",
       " '16714810-da8e-4cc9-9868-1994b8e4d503',\n",
       " '605f6135-fc83-47b9-bfd2-390d11134083',\n",
       " '3b975a92-8c34-4141-ae14-963af1f7f428',\n",
       " '2f60d556-780f-406d-a7d3-84ad0856fdbe',\n",
       " '63761458-8a47-4b1f-b1ff-872e29deb60b',\n",
       " '9a61f41b-d54c-4f09-9198-e2f83f7b559b',\n",
       " 'f1be60b6-a4da-42fb-9274-714946617498',\n",
       " '64caab50-ac6f-46c6-b9cd-d4ac86ef5e92']"
      ]
     },
     "execution_count": 137,
     "metadata": {},
     "output_type": "execute_result"
    }
   ],
   "source": [
    "vector_store = InMemoryVectorStore(OpenAIEmbeddings(model=\"text-embedding-3-large\"))\n",
    "vector_store.add_documents(splits)"
   ]
  },
  {
   "cell_type": "code",
   "execution_count": 138,
   "metadata": {},
   "outputs": [],
   "source": [
    "import pandas as pd\n",
    "from giskard.rag import KnowledgeBase\n",
    "knowledge_base_df = pd.DataFrame([i.page_content for i in splits], columns=[\"text\"])\n",
    "knowledge_base = KnowledgeBase(knowledge_base_df)"
   ]
  },
  {
   "cell_type": "code",
   "execution_count": 139,
   "metadata": {},
   "outputs": [],
   "source": [
    "import giskard\n",
    "from giskard.llm.client.openai import OpenAIClient\n",
    "\n",
    "giskard.llm.set_llm_api(\"openai\")\n",
    "oc = OpenAIClient(model=\"gpt-4o-mini\")\n",
    "giskard.llm.set_default_client(oc)"
   ]
  },
  {
   "cell_type": "code",
   "execution_count": 119,
   "metadata": {},
   "outputs": [
    {
     "name": "stdout",
     "output_type": "stream",
     "text": [
      "2024-10-27 17:19:51,625 pid:49470 MainThread giskard.rag  INFO     Finding topics in the knowledge base.\n",
      "2024-10-27 17:19:59,011 pid:49470 MainThread giskard.rag  INFO     Found 5 topics in the knowledge base.\n"
     ]
    },
    {
     "name": "stderr",
     "output_type": "stream",
     "text": [
      "Generating questions: 100%|██████████| 25/25 [00:47<00:00,  1.91s/it]\n"
     ]
    }
   ],
   "source": [
    "from giskard.rag import generate_testset\n",
    "\n",
    "testset = generate_testset(\n",
    "    knowledge_base,\n",
    "    num_questions=25,\n",
    "    language='en',  # optional, we'll auto detect if not provided\n",
    "    agent_description=\"A support agent for the University of Maryland's call center\", # helps generating better questions\n",
    ")"
   ]
  },
  {
   "cell_type": "code",
   "execution_count": 123,
   "metadata": {},
   "outputs": [],
   "source": [
    "testset.save(\"testset25.jsonl\")"
   ]
  },
  {
   "cell_type": "code",
   "execution_count": 140,
   "metadata": {},
   "outputs": [],
   "source": [
    "from giskard.rag import QATestset\n",
    "testset = QATestset.load(\"testset25.jsonl\")"
   ]
  },
  {
   "cell_type": "code",
   "execution_count": 141,
   "metadata": {},
   "outputs": [
    {
     "data": {
      "text/html": [
       "<div>\n",
       "<style scoped>\n",
       "    .dataframe tbody tr th:only-of-type {\n",
       "        vertical-align: middle;\n",
       "    }\n",
       "\n",
       "    .dataframe tbody tr th {\n",
       "        vertical-align: top;\n",
       "    }\n",
       "\n",
       "    .dataframe thead th {\n",
       "        text-align: right;\n",
       "    }\n",
       "</style>\n",
       "<table border=\"1\" class=\"dataframe\">\n",
       "  <thead>\n",
       "    <tr style=\"text-align: right;\">\n",
       "      <th></th>\n",
       "      <th>question</th>\n",
       "      <th>reference_answer</th>\n",
       "      <th>reference_context</th>\n",
       "      <th>conversation_history</th>\n",
       "      <th>metadata</th>\n",
       "    </tr>\n",
       "    <tr>\n",
       "      <th>id</th>\n",
       "      <th></th>\n",
       "      <th></th>\n",
       "      <th></th>\n",
       "      <th></th>\n",
       "      <th></th>\n",
       "    </tr>\n",
       "  </thead>\n",
       "  <tbody>\n",
       "    <tr>\n",
       "      <th>b0c34dd1-5373-4a31-b941-b7672d4345bb</th>\n",
       "      <td>What should a Resident Assistant do if there i...</td>\n",
       "      <td>Contact UMPD immediately. RAs should NOT try t...</td>\n",
       "      <td>Document 173: Misconduct (OCRSM): (301)405-114...</td>\n",
       "      <td>[]</td>\n",
       "      <td>{'question_type': 'simple', 'seed_document_id'...</td>\n",
       "    </tr>\n",
       "    <tr>\n",
       "      <th>0e624b2c-5816-4b41-a857-70ec8e87661c</th>\n",
       "      <td>What should you do if there is a question abou...</td>\n",
       "      <td>The person should not be left alone, and UMPD ...</td>\n",
       "      <td>Document 73: Resources● CommunityLivingHandboo...</td>\n",
       "      <td>[]</td>\n",
       "      <td>{'question_type': 'simple', 'seed_document_id'...</td>\n",
       "    </tr>\n",
       "    <tr>\n",
       "      <th>b1a6b840-1519-4eeb-849d-7bdc169bb22b</th>\n",
       "      <td>What is the policy regarding pets in the housi...</td>\n",
       "      <td>Only fish in aquariums no larger than 10 gallo...</td>\n",
       "      <td>Document 100: Resources● HousingAccommodations...</td>\n",
       "      <td>[]</td>\n",
       "      <td>{'question_type': 'simple', 'seed_document_id'...</td>\n",
       "    </tr>\n",
       "    <tr>\n",
       "      <th>3a162c15-735d-415e-8ce6-52cfe8439388</th>\n",
       "      <td>What is the purpose of UMDAlert?</td>\n",
       "      <td>The context does not provide specific informat...</td>\n",
       "      <td>Document 6: 37SevereWeather 37EarlyWarningSyst...</td>\n",
       "      <td>[]</td>\n",
       "      <td>{'question_type': 'simple', 'seed_document_id'...</td>\n",
       "    </tr>\n",
       "    <tr>\n",
       "      <th>0e4454d5-5f36-4e1d-9f31-2d7c4af1d6db</th>\n",
       "      <td>What should be documented according to the pro...</td>\n",
       "      <td>Any vandalism, safety, and facility issues sho...</td>\n",
       "      <td>Document 32: Proppeddoors, fireextinguisher, f...</td>\n",
       "      <td>[]</td>\n",
       "      <td>{'question_type': 'simple', 'seed_document_id'...</td>\n",
       "    </tr>\n",
       "  </tbody>\n",
       "</table>\n",
       "</div>"
      ],
      "text/plain": [
       "                                                                               question  \\\n",
       "id                                                                                        \n",
       "b0c34dd1-5373-4a31-b941-b7672d4345bb  What should a Resident Assistant do if there i...   \n",
       "0e624b2c-5816-4b41-a857-70ec8e87661c  What should you do if there is a question abou...   \n",
       "b1a6b840-1519-4eeb-849d-7bdc169bb22b  What is the policy regarding pets in the housi...   \n",
       "3a162c15-735d-415e-8ce6-52cfe8439388                   What is the purpose of UMDAlert?   \n",
       "0e4454d5-5f36-4e1d-9f31-2d7c4af1d6db  What should be documented according to the pro...   \n",
       "\n",
       "                                                                       reference_answer  \\\n",
       "id                                                                                        \n",
       "b0c34dd1-5373-4a31-b941-b7672d4345bb  Contact UMPD immediately. RAs should NOT try t...   \n",
       "0e624b2c-5816-4b41-a857-70ec8e87661c  The person should not be left alone, and UMPD ...   \n",
       "b1a6b840-1519-4eeb-849d-7bdc169bb22b  Only fish in aquariums no larger than 10 gallo...   \n",
       "3a162c15-735d-415e-8ce6-52cfe8439388  The context does not provide specific informat...   \n",
       "0e4454d5-5f36-4e1d-9f31-2d7c4af1d6db  Any vandalism, safety, and facility issues sho...   \n",
       "\n",
       "                                                                      reference_context  \\\n",
       "id                                                                                        \n",
       "b0c34dd1-5373-4a31-b941-b7672d4345bb  Document 173: Misconduct (OCRSM): (301)405-114...   \n",
       "0e624b2c-5816-4b41-a857-70ec8e87661c  Document 73: Resources● CommunityLivingHandboo...   \n",
       "b1a6b840-1519-4eeb-849d-7bdc169bb22b  Document 100: Resources● HousingAccommodations...   \n",
       "3a162c15-735d-415e-8ce6-52cfe8439388  Document 6: 37SevereWeather 37EarlyWarningSyst...   \n",
       "0e4454d5-5f36-4e1d-9f31-2d7c4af1d6db  Document 32: Proppeddoors, fireextinguisher, f...   \n",
       "\n",
       "                                     conversation_history  \\\n",
       "id                                                          \n",
       "b0c34dd1-5373-4a31-b941-b7672d4345bb                   []   \n",
       "0e624b2c-5816-4b41-a857-70ec8e87661c                   []   \n",
       "b1a6b840-1519-4eeb-849d-7bdc169bb22b                   []   \n",
       "3a162c15-735d-415e-8ce6-52cfe8439388                   []   \n",
       "0e4454d5-5f36-4e1d-9f31-2d7c4af1d6db                   []   \n",
       "\n",
       "                                                                               metadata  \n",
       "id                                                                                       \n",
       "b0c34dd1-5373-4a31-b941-b7672d4345bb  {'question_type': 'simple', 'seed_document_id'...  \n",
       "0e624b2c-5816-4b41-a857-70ec8e87661c  {'question_type': 'simple', 'seed_document_id'...  \n",
       "b1a6b840-1519-4eeb-849d-7bdc169bb22b  {'question_type': 'simple', 'seed_document_id'...  \n",
       "3a162c15-735d-415e-8ce6-52cfe8439388  {'question_type': 'simple', 'seed_document_id'...  \n",
       "0e4454d5-5f36-4e1d-9f31-2d7c4af1d6db  {'question_type': 'simple', 'seed_document_id'...  "
      ]
     },
     "execution_count": 141,
     "metadata": {},
     "output_type": "execute_result"
    }
   ],
   "source": [
    "testset_df = testset.to_pandas()\n",
    "testset_df.head()"
   ]
  },
  {
   "cell_type": "markdown",
   "metadata": {},
   "source": [
    "#### Evaluate gkiskard"
   ]
  },
  {
   "cell_type": "code",
   "execution_count": 147,
   "metadata": {},
   "outputs": [
    {
     "name": "stderr",
     "output_type": "stream",
     "text": [
      "Asking questions to the agent:   0%|          | 0/25 [00:00<?, ?it/s]"
     ]
    },
    {
     "name": "stdout",
     "output_type": "stream",
     "text": [
      "0.7237126982455698\n",
      "0.6514098405948775\n",
      "0.6145697745967713\n",
      "0.6068658810293511\n",
      "0.6025936099001936\n",
      "0.5964764142498462\n",
      "0.5902256182761509\n",
      "0.589838316419847\n",
      "0.5706793613001738\n",
      "0.5648190586039237\n"
     ]
    },
    {
     "name": "stderr",
     "output_type": "stream",
     "text": [
      "Asking questions to the agent:   4%|▍         | 1/25 [00:03<01:31,  3.81s/it]"
     ]
    },
    {
     "name": "stdout",
     "output_type": "stream",
     "text": [
      "0.5757888117884399\n",
      "0.548253871219513\n",
      "0.5444709183453731\n",
      "0.5430358268789178\n",
      "0.5319537219203614\n",
      "0.5314839334522206\n",
      "0.5004866809664246\n",
      "0.4913180445759836\n",
      "0.49127649762556236\n",
      "0.4909809232390961\n"
     ]
    },
    {
     "name": "stderr",
     "output_type": "stream",
     "text": [
      "Asking questions to the agent:   8%|▊         | 2/25 [00:06<01:17,  3.37s/it]"
     ]
    },
    {
     "name": "stdout",
     "output_type": "stream",
     "text": [
      "0.56585656468126\n",
      "0.5592144605746568\n",
      "0.5408973850560962\n",
      "0.5301577543537357\n",
      "0.48894413173256734\n",
      "0.42868337130878104\n",
      "0.41280428808415576\n",
      "0.38762942276955675\n",
      "0.37616896165085234\n",
      "0.3729093418647577\n"
     ]
    },
    {
     "name": "stderr",
     "output_type": "stream",
     "text": [
      "Asking questions to the agent:  12%|█▏        | 3/25 [00:08<00:52,  2.39s/it]"
     ]
    },
    {
     "name": "stdout",
     "output_type": "stream",
     "text": [
      "0.7226197957254779\n",
      "0.5624489758946831\n",
      "0.5454719800673563\n",
      "0.4820584476769591\n",
      "0.4464036880482169\n",
      "0.4463091134381085\n",
      "0.4392232986732536\n",
      "0.43702379506147976\n",
      "0.42800798794570355\n",
      "0.4243810891776885\n"
     ]
    },
    {
     "name": "stderr",
     "output_type": "stream",
     "text": [
      "Asking questions to the agent:  16%|█▌        | 4/25 [00:09<00:44,  2.10s/it]"
     ]
    },
    {
     "name": "stdout",
     "output_type": "stream",
     "text": [
      "0.37526753492301607\n",
      "0.37187250281137973\n",
      "0.3653929081594434\n",
      "0.36299759056266445\n",
      "0.3628305745230187\n",
      "0.36219228450401086\n",
      "0.3599662734232893\n",
      "0.35367992249921043\n",
      "0.3523758270075689\n",
      "0.35041092587028866\n"
     ]
    },
    {
     "name": "stderr",
     "output_type": "stream",
     "text": [
      "Asking questions to the agent:  20%|██        | 5/25 [00:11<00:41,  2.06s/it]"
     ]
    },
    {
     "name": "stdout",
     "output_type": "stream",
     "text": [
      "0.31975215991798456\n",
      "0.2912539602979305\n",
      "0.29076058950327266\n",
      "0.28603128603024736\n",
      "0.28550254334813985\n",
      "0.280010841615959\n",
      "0.27906790840223156\n",
      "0.27247647053062907\n",
      "0.2711163024729027\n",
      "0.2701139405741325\n"
     ]
    },
    {
     "name": "stderr",
     "output_type": "stream",
     "text": [
      "Asking questions to the agent:  24%|██▍       | 6/25 [00:13<00:35,  1.86s/it]"
     ]
    },
    {
     "name": "stdout",
     "output_type": "stream",
     "text": [
      "0.719604110729393\n",
      "0.6889458085339603\n",
      "0.68713954485694\n",
      "0.6750471649104809\n",
      "0.6653122231749921\n",
      "0.6259200022748781\n",
      "0.6251585401276982\n",
      "0.6237646297201691\n",
      "0.6195289030394929\n",
      "0.6005433844795774\n"
     ]
    },
    {
     "name": "stderr",
     "output_type": "stream",
     "text": [
      "Asking questions to the agent:  28%|██▊       | 7/25 [00:15<00:35,  1.96s/it]"
     ]
    },
    {
     "name": "stdout",
     "output_type": "stream",
     "text": [
      "0.5353508484720502\n",
      "0.5343278733284261\n",
      "0.5264367440336204\n",
      "0.5260850037343809\n",
      "0.5186010570539884\n",
      "0.5140560151838931\n",
      "0.5095295037601736\n",
      "0.5092949239633601\n",
      "0.5079320488375197\n",
      "0.4973114137838078\n"
     ]
    },
    {
     "name": "stderr",
     "output_type": "stream",
     "text": [
      "Asking questions to the agent:  32%|███▏      | 8/25 [00:17<00:36,  2.15s/it]"
     ]
    },
    {
     "name": "stdout",
     "output_type": "stream",
     "text": [
      "0.6833269201090799\n",
      "0.6623878371258636\n",
      "0.6311328872127183\n",
      "0.630238707627953\n",
      "0.49822638037785977\n",
      "0.47776934214013894\n",
      "0.461414676705547\n",
      "0.4470684871859198\n",
      "0.4452235973039683\n",
      "0.44351065159630104\n"
     ]
    },
    {
     "name": "stderr",
     "output_type": "stream",
     "text": [
      "Asking questions to the agent:  36%|███▌      | 9/25 [00:19<00:33,  2.09s/it]"
     ]
    },
    {
     "name": "stdout",
     "output_type": "stream",
     "text": [
      "0.7658295379058687\n",
      "0.6705665282368578\n",
      "0.6514418616676099\n",
      "0.6476309012604864\n",
      "0.6400318909286731\n",
      "0.6316016576604278\n",
      "0.6173019905368922\n",
      "0.6108324531257547\n",
      "0.6107026420590178\n",
      "0.6064102597109029\n"
     ]
    },
    {
     "name": "stderr",
     "output_type": "stream",
     "text": [
      "Asking questions to the agent:  40%|████      | 10/25 [00:23<00:38,  2.55s/it]"
     ]
    },
    {
     "name": "stdout",
     "output_type": "stream",
     "text": [
      "0.5974437669102287\n",
      "0.5105812308561004\n",
      "0.5091748553106249\n",
      "0.4644490370967986\n",
      "0.4606090184773916\n",
      "0.45381020517697374\n",
      "0.4485791076143343\n",
      "0.43715915725847826\n",
      "0.4349367767109604\n",
      "0.4208540425452083\n"
     ]
    },
    {
     "name": "stderr",
     "output_type": "stream",
     "text": [
      "Asking questions to the agent:  44%|████▍     | 11/25 [00:25<00:33,  2.41s/it]"
     ]
    },
    {
     "name": "stdout",
     "output_type": "stream",
     "text": [
      "0.6110182845128485\n",
      "0.5896616913445509\n",
      "0.5798994172232814\n",
      "0.5679690754090982\n",
      "0.567822041760414\n",
      "0.5604724722904708\n",
      "0.556202284559698\n",
      "0.5546550258371029\n",
      "0.5398315462433148\n",
      "0.5240074033556229\n"
     ]
    },
    {
     "name": "stderr",
     "output_type": "stream",
     "text": [
      "Asking questions to the agent:  48%|████▊     | 12/25 [00:28<00:33,  2.58s/it]"
     ]
    },
    {
     "name": "stdout",
     "output_type": "stream",
     "text": [
      "0.7307373685754002\n",
      "0.5981157319608653\n",
      "0.5874849716165137\n",
      "0.5831737428364038\n",
      "0.5676780218979613\n",
      "0.5666924759910541\n",
      "0.5653132021641447\n",
      "0.5514191184014415\n",
      "0.5508961086760091\n",
      "0.5431315726838786\n"
     ]
    },
    {
     "name": "stderr",
     "output_type": "stream",
     "text": [
      "Asking questions to the agent:  52%|█████▏    | 13/25 [00:30<00:28,  2.38s/it]"
     ]
    },
    {
     "name": "stdout",
     "output_type": "stream",
     "text": [
      "0.7167253585510116\n",
      "0.6898048811427288\n",
      "0.605686753958847\n",
      "0.5954492409872172\n",
      "0.5619395698747862\n",
      "0.5561025679518392\n",
      "0.5526415890667474\n",
      "0.5440004147864144\n",
      "0.5407275537596404\n",
      "0.5276096698103381\n"
     ]
    },
    {
     "name": "stderr",
     "output_type": "stream",
     "text": [
      "Asking questions to the agent:  56%|█████▌    | 14/25 [00:31<00:21,  1.94s/it]"
     ]
    },
    {
     "name": "stdout",
     "output_type": "stream",
     "text": [
      "0.5141621901496353\n",
      "0.498876388620693\n",
      "0.4980523765148619\n",
      "0.4866031706866869\n",
      "0.48454344343612715\n",
      "0.4760328100837318\n",
      "0.4736180947247682\n",
      "0.46573857292561954\n",
      "0.46436442480750617\n",
      "0.4627293346424489\n"
     ]
    },
    {
     "name": "stderr",
     "output_type": "stream",
     "text": [
      "Asking questions to the agent:  60%|██████    | 15/25 [00:35<00:26,  2.66s/it]"
     ]
    },
    {
     "name": "stdout",
     "output_type": "stream",
     "text": [
      "0.7207729921398278\n",
      "0.6782681286565786\n",
      "0.6522370459108315\n",
      "0.6510119065229845\n",
      "0.6263815011769455\n",
      "0.6211923493180969\n",
      "0.6170765889561757\n",
      "0.5997822497247746\n",
      "0.5963402599303231\n",
      "0.5792251336206605\n"
     ]
    },
    {
     "name": "stderr",
     "output_type": "stream",
     "text": [
      "Asking questions to the agent:  64%|██████▍   | 16/25 [00:37<00:21,  2.40s/it]"
     ]
    },
    {
     "name": "stdout",
     "output_type": "stream",
     "text": [
      "0.7150939805163461\n",
      "0.6731653776842219\n",
      "0.6703212763939066\n",
      "0.6627756646693426\n",
      "0.6332803872748365\n",
      "0.6254723583631573\n",
      "0.6251032162276148\n",
      "0.6153625218580272\n",
      "0.6140938843236085\n",
      "0.6102877694890448\n"
     ]
    },
    {
     "name": "stderr",
     "output_type": "stream",
     "text": [
      "Asking questions to the agent:  68%|██████▊   | 17/25 [00:41<00:23,  2.97s/it]"
     ]
    },
    {
     "name": "stdout",
     "output_type": "stream",
     "text": [
      "0.7297779159516994\n",
      "0.7069740405275222\n",
      "0.6467063975378533\n",
      "0.5994071787603966\n",
      "0.5881116588145558\n",
      "0.5826984905038052\n",
      "0.5800249059691237\n",
      "0.5120254835888834\n",
      "0.5082259238330068\n",
      "0.506608188522988\n"
     ]
    },
    {
     "name": "stderr",
     "output_type": "stream",
     "text": [
      "Asking questions to the agent:  72%|███████▏  | 18/25 [00:43<00:17,  2.47s/it]"
     ]
    },
    {
     "name": "stdout",
     "output_type": "stream",
     "text": [
      "0.6810517401795564\n",
      "0.6441075725122054\n",
      "0.6155622111277953\n",
      "0.6146218402888749\n",
      "0.6107659580736211\n",
      "0.5761635333980152\n",
      "0.5480581718888762\n",
      "0.53952219179077\n",
      "0.5370598310304515\n",
      "0.5293216505544562\n"
     ]
    },
    {
     "name": "stderr",
     "output_type": "stream",
     "text": [
      "Asking questions to the agent:  76%|███████▌  | 19/25 [00:44<00:12,  2.09s/it]"
     ]
    },
    {
     "name": "stdout",
     "output_type": "stream",
     "text": [
      "0.5193103763436703\n",
      "0.4396005631703056\n",
      "0.40235837797691604\n",
      "0.39972935040049323\n",
      "0.3966921283964956\n",
      "0.38995613365159915\n",
      "0.38947959413108496\n",
      "0.38667126532635926\n",
      "0.38474447243061455\n",
      "0.3841128054149019\n"
     ]
    },
    {
     "name": "stderr",
     "output_type": "stream",
     "text": [
      "Asking questions to the agent:  80%|████████  | 20/25 [00:45<00:09,  1.91s/it]"
     ]
    },
    {
     "name": "stdout",
     "output_type": "stream",
     "text": [
      "0.6474024763561272\n",
      "0.36650073618338\n",
      "0.31841995174686877\n",
      "0.26043992940246635\n",
      "0.25177706744324585\n",
      "0.24962371080849433\n",
      "0.2375443266841758\n",
      "0.23716002464337144\n",
      "0.2252143081300019\n",
      "0.2185837322076068\n"
     ]
    },
    {
     "name": "stderr",
     "output_type": "stream",
     "text": [
      "Asking questions to the agent:  84%|████████▍ | 21/25 [00:47<00:07,  1.76s/it]"
     ]
    },
    {
     "name": "stdout",
     "output_type": "stream",
     "text": [
      "0.18161314831851225\n",
      "0.17042193190307853\n",
      "0.16948247714615225\n",
      "0.16905574540889326\n",
      "0.16842111768154575\n",
      "0.16820469846014835\n",
      "0.1675828702922835\n",
      "0.16524818848727882\n",
      "0.1601726204868421\n",
      "0.1584932845721518\n"
     ]
    },
    {
     "name": "stderr",
     "output_type": "stream",
     "text": [
      "Asking questions to the agent:  88%|████████▊ | 22/25 [00:49<00:05,  1.88s/it]"
     ]
    },
    {
     "name": "stdout",
     "output_type": "stream",
     "text": [
      "0.18161314831851225\n",
      "0.17042193190307853\n",
      "0.16948247714615225\n",
      "0.16905574540889326\n",
      "0.16842111768154575\n",
      "0.16820469846014835\n",
      "0.1675828702922835\n",
      "0.16524818848727882\n",
      "0.1601726204868421\n",
      "0.1584932845721518\n"
     ]
    },
    {
     "name": "stderr",
     "output_type": "stream",
     "text": [
      "Asking questions to the agent:  92%|█████████▏| 23/25 [00:50<00:03,  1.68s/it]"
     ]
    },
    {
     "name": "stdout",
     "output_type": "stream",
     "text": [
      "0.23167218549473592\n",
      "0.20645081263592188\n",
      "0.20206284412556813\n",
      "0.1898131430756027\n",
      "0.1847420402141643\n",
      "0.17775405498393237\n",
      "0.17552635266009825\n",
      "0.1719223966582029\n",
      "0.17158996281737926\n",
      "0.16813970899058298\n"
     ]
    },
    {
     "name": "stderr",
     "output_type": "stream",
     "text": [
      "Asking questions to the agent:  96%|█████████▌| 24/25 [00:51<00:01,  1.46s/it]"
     ]
    },
    {
     "name": "stdout",
     "output_type": "stream",
     "text": [
      "0.18161314831851225\n",
      "0.17042193190307853\n",
      "0.16948247714615225\n",
      "0.16905574540889326\n",
      "0.16842111768154575\n",
      "0.16820469846014835\n",
      "0.1675828702922835\n",
      "0.16524818848727882\n",
      "0.1601726204868421\n",
      "0.1584932845721518\n"
     ]
    },
    {
     "name": "stderr",
     "output_type": "stream",
     "text": [
      "Asking questions to the agent: 100%|██████████| 25/25 [00:52<00:00,  2.09s/it]\n",
      "Asking questions to the agent: 100%|██████████| 25/25 [00:52<00:00,  2.09s/it]\n",
      "CorrectnessMetric evaluation: 100%|██████████| 25/25 [00:21<00:00,  1.17it/s]\n"
     ]
    }
   ],
   "source": [
    "from giskard.rag import evaluate\n",
    "import openai\n",
    "\n",
    "# Wrap your RAG model\n",
    "def get_answer_fn(question: str, history=None) -> str:\n",
    "    \"\"\"A function representing your RAG agent.\"\"\"\n",
    "    # Format appropriately the history for your RAG agent\n",
    "    messages = history if history else []\n",
    "    messages.append({\"role\": \"user\", \"content\": question})\n",
    "\n",
    "    system_message = \"Search results found the following information that might be relevent: \"\n",
    "    similarity_search_with_score = vector_store.similarity_search_with_score(question, k=10)\n",
    "    for i, doc_score in enumerate(similarity_search_with_score):\n",
    "        doc, score = doc_score\n",
    "        system_message += f\"Source {i}. Relevency Score: {score}:\\n\"+ doc.page_content + \"\\n\\n\"\n",
    "        print(score)\n",
    "    \n",
    "    messages.append({\"role\": \"system\", \"content\": system_message})\n",
    "\n",
    "    reminder_message = \"Remember, you are on a phone call. Your response to the caller should be accurate and concise. Do not monologue. Here is the caller's message:\"\n",
    "    messages.append({\"role\": \"system\", \"content\": reminder_message})\n",
    "\n",
    "    chatcompletion = openai.chat.completions.create(messages=messages, model=\"gpt-4o-mini\")\n",
    "    answer = chatcompletion.choices[0].message.content\n",
    "    return answer\n",
    "\n",
    "\n",
    "#ragas_context_recall = RagasMetric(name=\"RAGAS Context Recall\", metric=context_recall, requires_context=True)\n",
    "\n",
    "report = evaluate(get_answer_fn, testset=testset, knowledge_base=knowledge_base)"
   ]
  },
  {
   "cell_type": "code",
   "execution_count": null,
   "metadata": {},
   "outputs": [],
   "source": [
    "#display(report)  # if you are working in a notebook\n",
    "\n",
    "# or save the report as an HTML file\n",
    "#report.to_html(\"rag_eval_report.html\")"
   ]
  },
  {
   "cell_type": "code",
   "execution_count": 148,
   "metadata": {},
   "outputs": [],
   "source": [
    "report.save(\"reports/gpt_4o_mini-splits_character-top10-zerox\")"
   ]
  },
  {
   "cell_type": "code",
   "execution_count": null,
   "metadata": {},
   "outputs": [],
   "source": [
    "from giskard.rag import RAGReport\n",
    "loaded_report = RAGReport.load(\"reports/...\")"
   ]
  },
  {
   "cell_type": "code",
   "execution_count": 65,
   "metadata": {},
   "outputs": [
    {
     "data": {
      "text/plain": [
       "<giskard.rag.knowledge_base.KnowledgeBase at 0x341418ce0>"
      ]
     },
     "execution_count": 65,
     "metadata": {},
     "output_type": "execute_result"
    }
   ],
   "source": [
    "report._knowledge_base._to_"
   ]
  },
  {
   "cell_type": "code",
   "execution_count": 63,
   "metadata": {},
   "outputs": [
    {
     "data": {
      "text/html": [
       "<div>\n",
       "<style scoped>\n",
       "    .dataframe tbody tr th:only-of-type {\n",
       "        vertical-align: middle;\n",
       "    }\n",
       "\n",
       "    .dataframe tbody tr th {\n",
       "        vertical-align: top;\n",
       "    }\n",
       "\n",
       "    .dataframe thead th {\n",
       "        text-align: right;\n",
       "    }\n",
       "</style>\n",
       "<table border=\"1\" class=\"dataframe\">\n",
       "  <thead>\n",
       "    <tr style=\"text-align: right;\">\n",
       "      <th></th>\n",
       "      <th>question</th>\n",
       "      <th>reference_answer</th>\n",
       "      <th>reference_context</th>\n",
       "      <th>conversation_history</th>\n",
       "      <th>metadata</th>\n",
       "      <th>agent_answer</th>\n",
       "      <th>correctness</th>\n",
       "      <th>correctness_reason</th>\n",
       "    </tr>\n",
       "    <tr>\n",
       "      <th>id</th>\n",
       "      <th></th>\n",
       "      <th></th>\n",
       "      <th></th>\n",
       "      <th></th>\n",
       "      <th></th>\n",
       "      <th></th>\n",
       "      <th></th>\n",
       "      <th></th>\n",
       "    </tr>\n",
       "  </thead>\n",
       "  <tbody>\n",
       "    <tr>\n",
       "      <th>9c63fed4-b956-4aa0-9501-741321f4f034</th>\n",
       "      <td>What happens if a student does not work throug...</td>\n",
       "      <td>If a student does not work through Labor Day, ...</td>\n",
       "      <td>Document 147: summer benefits\\nSummer housing ...</td>\n",
       "      <td>[]</td>\n",
       "      <td>{'question_type': 'simple', 'seed_document_id'...</td>\n",
       "      <td>If a student living in summer housing does not...</td>\n",
       "      <td>False</td>\n",
       "      <td>The agent provided a general response about im...</td>\n",
       "    </tr>\n",
       "    <tr>\n",
       "      <th>f29be739-0393-44a5-a519-7912dba4c9e1</th>\n",
       "      <td>What should a staff member do if they are goin...</td>\n",
       "      <td>They are expected to immediately call the Serv...</td>\n",
       "      <td>Document 45: If a staff member is unable to re...</td>\n",
       "      <td>[]</td>\n",
       "      <td>{'question_type': 'simple', 'seed_document_id'...</td>\n",
       "      <td>If a staff member knows they will be late for ...</td>\n",
       "      <td>False</td>\n",
       "      <td>The agent provided a general response about no...</td>\n",
       "    </tr>\n",
       "    <tr>\n",
       "      <th>fb530e2e-e211-41f1-9c11-3e5bc8078666</th>\n",
       "      <td>In order to be considered for a promotion to t...</td>\n",
       "      <td>An employee must work a minimum of 120 total h...</td>\n",
       "      <td>Document 135: a. Possess a satisfactory perfor...</td>\n",
       "      <td>[]</td>\n",
       "      <td>{'question_type': 'complex', 'seed_document_id...</td>\n",
       "      <td>The minimum total number of hours an employee ...</td>\n",
       "      <td>False</td>\n",
       "      <td>The agent did not provide the specific minimum...</td>\n",
       "    </tr>\n",
       "    <tr>\n",
       "      <th>c9e0790a-3be2-4adf-b9bd-7de3f0c01105</th>\n",
       "      <td>Could you specify the individuals who hold the...</td>\n",
       "      <td>Only the Service Center Assistant Manager, Man...</td>\n",
       "      <td>Document 162: All keys, swipes and key rings i...</td>\n",
       "      <td>[]</td>\n",
       "      <td>{'question_type': 'complex', 'seed_document_id...</td>\n",
       "      <td>The authority to approve the signing out of ke...</td>\n",
       "      <td>False</td>\n",
       "      <td>The agent provided a broader list of roles tha...</td>\n",
       "    </tr>\n",
       "    <tr>\n",
       "      <th>94e282d7-352b-42f9-b78e-762e24a61c1d</th>\n",
       "      <td>What steps should a student take regarding the...</td>\n",
       "      <td>If you have a student parking permit, remove i...</td>\n",
       "      <td>Document 55: If you have a student parking per...</td>\n",
       "      <td>[]</td>\n",
       "      <td>{'question_type': 'distracting element', 'seed...</td>\n",
       "      <td>If a student has received a written warning fo...</td>\n",
       "      <td>False</td>\n",
       "      <td>The agent provided a detailed response about g...</td>\n",
       "    </tr>\n",
       "    <tr>\n",
       "      <th>e049d396-2658-4b2f-8722-e42697cdc731</th>\n",
       "      <td>In the event that a substitute fails to report...</td>\n",
       "      <td>The original (scheduled/assigned) staff member...</td>\n",
       "      <td>Document 48: If the substitute does not report...</td>\n",
       "      <td>[]</td>\n",
       "      <td>{'question_type': 'distracting element', 'seed...</td>\n",
       "      <td>When a substitute fails to report for their sc...</td>\n",
       "      <td>False</td>\n",
       "      <td>The agent provided a detailed response about t...</td>\n",
       "    </tr>\n",
       "    <tr>\n",
       "      <th>14060525-e7cd-4fa3-b239-501a78dc994c</th>\n",
       "      <td>Hi, I'm a staff member at the university and I...</td>\n",
       "      <td>The driver should take the vehicle out to Moto...</td>\n",
       "      <td>Document 171: Vehicles should never be returne...</td>\n",
       "      <td>[]</td>\n",
       "      <td>{'question_type': 'situational', 'seed_documen...</td>\n",
       "      <td>It's important to ensure that university vehic...</td>\n",
       "      <td>False</td>\n",
       "      <td>The agent provided general refueling procedure...</td>\n",
       "    </tr>\n",
       "    <tr>\n",
       "      <th>42d9bf93-4e26-4fef-b301-c31e7cd69bd8</th>\n",
       "      <td>Hi there, I’m currently dealing with an unexpe...</td>\n",
       "      <td>If a staff member is not able to safely travel...</td>\n",
       "      <td>Document 63: In the event the University has a...</td>\n",
       "      <td>[]</td>\n",
       "      <td>{'question_type': 'situational', 'seed_documen...</td>\n",
       "      <td>If you are a staff member unable to safely tra...</td>\n",
       "      <td>False</td>\n",
       "      <td>The agent provided a detailed response about g...</td>\n",
       "    </tr>\n",
       "    <tr>\n",
       "      <th>ad2c7d12-7bb1-4710-9efc-16f83d2bbbeb</th>\n",
       "      <td>What is the main purpose of the Service Center...</td>\n",
       "      <td>The Service Center serves as the main communic...</td>\n",
       "      <td>Document 6: The Department of Residential Faci...</td>\n",
       "      <td>[]</td>\n",
       "      <td>{'question_type': 'double', 'original_question...</td>\n",
       "      <td>The main purpose of the Service Center is to p...</td>\n",
       "      <td>False</td>\n",
       "      <td>The agent provided a general description of th...</td>\n",
       "    </tr>\n",
       "    <tr>\n",
       "      <th>dc21b28c-3d62-4a84-83fc-ba8b83599849</th>\n",
       "      <td>What are the consequences?</td>\n",
       "      <td>Forgetting ID when working and using key slip ...</td>\n",
       "      <td>Document 182: not completing work in the box o...</td>\n",
       "      <td>[{'role': 'user', 'content': 'I want to know w...</td>\n",
       "      <td>{'question_type': 'conversational', 'seed_docu...</td>\n",
       "      <td>The consequences of an employee forgetting the...</td>\n",
       "      <td>False</td>\n",
       "      <td>The agent provided a detailed explanation of p...</td>\n",
       "    </tr>\n",
       "  </tbody>\n",
       "</table>\n",
       "</div>"
      ],
      "text/plain": [
       "                                                                               question  \\\n",
       "id                                                                                        \n",
       "9c63fed4-b956-4aa0-9501-741321f4f034  What happens if a student does not work throug...   \n",
       "f29be739-0393-44a5-a519-7912dba4c9e1  What should a staff member do if they are goin...   \n",
       "fb530e2e-e211-41f1-9c11-3e5bc8078666  In order to be considered for a promotion to t...   \n",
       "c9e0790a-3be2-4adf-b9bd-7de3f0c01105  Could you specify the individuals who hold the...   \n",
       "94e282d7-352b-42f9-b78e-762e24a61c1d  What steps should a student take regarding the...   \n",
       "e049d396-2658-4b2f-8722-e42697cdc731  In the event that a substitute fails to report...   \n",
       "14060525-e7cd-4fa3-b239-501a78dc994c  Hi, I'm a staff member at the university and I...   \n",
       "42d9bf93-4e26-4fef-b301-c31e7cd69bd8  Hi there, I’m currently dealing with an unexpe...   \n",
       "ad2c7d12-7bb1-4710-9efc-16f83d2bbbeb  What is the main purpose of the Service Center...   \n",
       "dc21b28c-3d62-4a84-83fc-ba8b83599849                         What are the consequences?   \n",
       "\n",
       "                                                                       reference_answer  \\\n",
       "id                                                                                        \n",
       "9c63fed4-b956-4aa0-9501-741321f4f034  If a student does not work through Labor Day, ...   \n",
       "f29be739-0393-44a5-a519-7912dba4c9e1  They are expected to immediately call the Serv...   \n",
       "fb530e2e-e211-41f1-9c11-3e5bc8078666  An employee must work a minimum of 120 total h...   \n",
       "c9e0790a-3be2-4adf-b9bd-7de3f0c01105  Only the Service Center Assistant Manager, Man...   \n",
       "94e282d7-352b-42f9-b78e-762e24a61c1d  If you have a student parking permit, remove i...   \n",
       "e049d396-2658-4b2f-8722-e42697cdc731  The original (scheduled/assigned) staff member...   \n",
       "14060525-e7cd-4fa3-b239-501a78dc994c  The driver should take the vehicle out to Moto...   \n",
       "42d9bf93-4e26-4fef-b301-c31e7cd69bd8  If a staff member is not able to safely travel...   \n",
       "ad2c7d12-7bb1-4710-9efc-16f83d2bbbeb  The Service Center serves as the main communic...   \n",
       "dc21b28c-3d62-4a84-83fc-ba8b83599849  Forgetting ID when working and using key slip ...   \n",
       "\n",
       "                                                                      reference_context  \\\n",
       "id                                                                                        \n",
       "9c63fed4-b956-4aa0-9501-741321f4f034  Document 147: summer benefits\\nSummer housing ...   \n",
       "f29be739-0393-44a5-a519-7912dba4c9e1  Document 45: If a staff member is unable to re...   \n",
       "fb530e2e-e211-41f1-9c11-3e5bc8078666  Document 135: a. Possess a satisfactory perfor...   \n",
       "c9e0790a-3be2-4adf-b9bd-7de3f0c01105  Document 162: All keys, swipes and key rings i...   \n",
       "94e282d7-352b-42f9-b78e-762e24a61c1d  Document 55: If you have a student parking per...   \n",
       "e049d396-2658-4b2f-8722-e42697cdc731  Document 48: If the substitute does not report...   \n",
       "14060525-e7cd-4fa3-b239-501a78dc994c  Document 171: Vehicles should never be returne...   \n",
       "42d9bf93-4e26-4fef-b301-c31e7cd69bd8  Document 63: In the event the University has a...   \n",
       "ad2c7d12-7bb1-4710-9efc-16f83d2bbbeb  Document 6: The Department of Residential Faci...   \n",
       "dc21b28c-3d62-4a84-83fc-ba8b83599849  Document 182: not completing work in the box o...   \n",
       "\n",
       "                                                                   conversation_history  \\\n",
       "id                                                                                        \n",
       "9c63fed4-b956-4aa0-9501-741321f4f034                                                 []   \n",
       "f29be739-0393-44a5-a519-7912dba4c9e1                                                 []   \n",
       "fb530e2e-e211-41f1-9c11-3e5bc8078666                                                 []   \n",
       "c9e0790a-3be2-4adf-b9bd-7de3f0c01105                                                 []   \n",
       "94e282d7-352b-42f9-b78e-762e24a61c1d                                                 []   \n",
       "e049d396-2658-4b2f-8722-e42697cdc731                                                 []   \n",
       "14060525-e7cd-4fa3-b239-501a78dc994c                                                 []   \n",
       "42d9bf93-4e26-4fef-b301-c31e7cd69bd8                                                 []   \n",
       "ad2c7d12-7bb1-4710-9efc-16f83d2bbbeb                                                 []   \n",
       "dc21b28c-3d62-4a84-83fc-ba8b83599849  [{'role': 'user', 'content': 'I want to know w...   \n",
       "\n",
       "                                                                               metadata  \\\n",
       "id                                                                                        \n",
       "9c63fed4-b956-4aa0-9501-741321f4f034  {'question_type': 'simple', 'seed_document_id'...   \n",
       "f29be739-0393-44a5-a519-7912dba4c9e1  {'question_type': 'simple', 'seed_document_id'...   \n",
       "fb530e2e-e211-41f1-9c11-3e5bc8078666  {'question_type': 'complex', 'seed_document_id...   \n",
       "c9e0790a-3be2-4adf-b9bd-7de3f0c01105  {'question_type': 'complex', 'seed_document_id...   \n",
       "94e282d7-352b-42f9-b78e-762e24a61c1d  {'question_type': 'distracting element', 'seed...   \n",
       "e049d396-2658-4b2f-8722-e42697cdc731  {'question_type': 'distracting element', 'seed...   \n",
       "14060525-e7cd-4fa3-b239-501a78dc994c  {'question_type': 'situational', 'seed_documen...   \n",
       "42d9bf93-4e26-4fef-b301-c31e7cd69bd8  {'question_type': 'situational', 'seed_documen...   \n",
       "ad2c7d12-7bb1-4710-9efc-16f83d2bbbeb  {'question_type': 'double', 'original_question...   \n",
       "dc21b28c-3d62-4a84-83fc-ba8b83599849  {'question_type': 'conversational', 'seed_docu...   \n",
       "\n",
       "                                                                           agent_answer  \\\n",
       "id                                                                                        \n",
       "9c63fed4-b956-4aa0-9501-741321f4f034  If a student living in summer housing does not...   \n",
       "f29be739-0393-44a5-a519-7912dba4c9e1  If a staff member knows they will be late for ...   \n",
       "fb530e2e-e211-41f1-9c11-3e5bc8078666  The minimum total number of hours an employee ...   \n",
       "c9e0790a-3be2-4adf-b9bd-7de3f0c01105  The authority to approve the signing out of ke...   \n",
       "94e282d7-352b-42f9-b78e-762e24a61c1d  If a student has received a written warning fo...   \n",
       "e049d396-2658-4b2f-8722-e42697cdc731  When a substitute fails to report for their sc...   \n",
       "14060525-e7cd-4fa3-b239-501a78dc994c  It's important to ensure that university vehic...   \n",
       "42d9bf93-4e26-4fef-b301-c31e7cd69bd8  If you are a staff member unable to safely tra...   \n",
       "ad2c7d12-7bb1-4710-9efc-16f83d2bbbeb  The main purpose of the Service Center is to p...   \n",
       "dc21b28c-3d62-4a84-83fc-ba8b83599849  The consequences of an employee forgetting the...   \n",
       "\n",
       "                                      correctness  \\\n",
       "id                                                  \n",
       "9c63fed4-b956-4aa0-9501-741321f4f034        False   \n",
       "f29be739-0393-44a5-a519-7912dba4c9e1        False   \n",
       "fb530e2e-e211-41f1-9c11-3e5bc8078666        False   \n",
       "c9e0790a-3be2-4adf-b9bd-7de3f0c01105        False   \n",
       "94e282d7-352b-42f9-b78e-762e24a61c1d        False   \n",
       "e049d396-2658-4b2f-8722-e42697cdc731        False   \n",
       "14060525-e7cd-4fa3-b239-501a78dc994c        False   \n",
       "42d9bf93-4e26-4fef-b301-c31e7cd69bd8        False   \n",
       "ad2c7d12-7bb1-4710-9efc-16f83d2bbbeb        False   \n",
       "dc21b28c-3d62-4a84-83fc-ba8b83599849        False   \n",
       "\n",
       "                                                                     correctness_reason  \n",
       "id                                                                                       \n",
       "9c63fed4-b956-4aa0-9501-741321f4f034  The agent provided a general response about im...  \n",
       "f29be739-0393-44a5-a519-7912dba4c9e1  The agent provided a general response about no...  \n",
       "fb530e2e-e211-41f1-9c11-3e5bc8078666  The agent did not provide the specific minimum...  \n",
       "c9e0790a-3be2-4adf-b9bd-7de3f0c01105  The agent provided a broader list of roles tha...  \n",
       "94e282d7-352b-42f9-b78e-762e24a61c1d  The agent provided a detailed response about g...  \n",
       "e049d396-2658-4b2f-8722-e42697cdc731  The agent provided a detailed response about t...  \n",
       "14060525-e7cd-4fa3-b239-501a78dc994c  The agent provided general refueling procedure...  \n",
       "42d9bf93-4e26-4fef-b301-c31e7cd69bd8  The agent provided a detailed response about g...  \n",
       "ad2c7d12-7bb1-4710-9efc-16f83d2bbbeb  The agent provided a general description of th...  \n",
       "dc21b28c-3d62-4a84-83fc-ba8b83599849  The agent provided a detailed explanation of p...  "
      ]
     },
     "execution_count": 63,
     "metadata": {},
     "output_type": "execute_result"
    }
   ],
   "source": [
    "report.failures"
   ]
  },
  {
   "cell_type": "markdown",
   "metadata": {},
   "source": [
    "## Misc "
   ]
  },
  {
   "cell_type": "code",
   "execution_count": null,
   "metadata": {},
   "outputs": [],
   "source": [
    "from pinecone.grpc import PineconeGRPC as Pinecone\n",
    "from pinecone.grpc import GRPCVector\n",
    "from pinecone.grpc.index_grpc import UpsertResponse\n",
    "\n",
    "PINECONE_API_KEY = os.getenv(\"PINECONE_API_KEY\")\n",
    "PINECONE_HOST = os.getenv(\"PINECONE_HOST\")\n",
    "PINECONE_NAMESPACE = \"umd-call-center\"\n",
    "pc = Pinecone(api_key=PINECONE_API_KEY)\n",
    "pc = Pinecone(api_key=PINECONE_API_KEY)\n",
    "PC_INDEX_NAME = \"knowledge\"\n",
    "pc_index = pc.Index(PC_INDEX_NAME, host=PINECONE_HOST)"
   ]
  },
  {
   "cell_type": "code",
   "execution_count": null,
   "metadata": {},
   "outputs": [],
   "source": [
    "from typing import List\n",
    "def query_pc(vector: List[float]):\n",
    "    query_result = pc_index.query(\n",
    "        vector=vector,\n",
    "        namespace=PINECONE_NAMESPACE,\n",
    "        top_k=10,\n",
    "        #filter={\"knowledge_uuid\": {\"$in\": knowledge_uuids}},\n",
    "        include_metadata=True,\n",
    "        timeout=1,\n",
    "    )\n",
    "    return query_result\n"
   ]
  },
  {
   "cell_type": "code",
   "execution_count": null,
   "metadata": {},
   "outputs": [],
   "source": [
    "import numpy as np\n",
    "\n",
    "def cosine_similarity(vec1, vec2):\n",
    "    # Compute dot product\n",
    "    dot_product = np.dot(vec1, vec2)\n",
    "    # Compute magnitudes\n",
    "    magnitude_vec1 = np.linalg.norm(vec1)\n",
    "    magnitude_vec2 = np.linalg.norm(vec2)\n",
    "    # Calculate cosine similarity\n",
    "    if magnitude_vec1 == 0 or magnitude_vec2 == 0:\n",
    "        return 0  # Handle the case of zero magnitude\n",
    "    return dot_product / (magnitude_vec1 * magnitude_vec2)\n"
   ]
  }
 ],
 "metadata": {
  "kernelspec": {
   "display_name": ".venv",
   "language": "python",
   "name": "python3"
  },
  "language_info": {
   "codemirror_mode": {
    "name": "ipython",
    "version": 3
   },
   "file_extension": ".py",
   "mimetype": "text/x-python",
   "name": "python",
   "nbconvert_exporter": "python",
   "pygments_lexer": "ipython3",
   "version": "3.12.5"
  }
 },
 "nbformat": 4,
 "nbformat_minor": 2
}
